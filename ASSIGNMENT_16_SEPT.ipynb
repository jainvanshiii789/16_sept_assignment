{
  "cells": [
    {
      "cell_type": "markdown",
      "id": "4ed1265c-8094-4844-8453-fd72b46b6d4e",
      "metadata": {
        "id": "4ed1265c-8094-4844-8453-fd72b46b6d4e"
      },
      "source": [
        "# 16_sept_assignment:"
      ]
    },
    {
      "cell_type": "markdown",
      "id": "c6d70f6e-10f9-49e5-8fd7-f04166150100",
      "metadata": {
        "id": "c6d70f6e-10f9-49e5-8fd7-f04166150100"
      },
      "source": [
        "## FOR LOOP:"
      ]
    },
    {
      "cell_type": "markdown",
      "id": "132a4d69-aaa8-4354-913b-3f8932bfa8e5",
      "metadata": {
        "id": "132a4d69-aaa8-4354-913b-3f8932bfa8e5"
      },
      "source": [
        "### 1. Write a Python program to print numbers from 1 to 10 using a for loop."
      ]
    },
    {
      "cell_type": "code",
      "execution_count": null,
      "id": "caef0e6f-ed94-4add-ae79-f765f7581ebf",
      "metadata": {
        "id": "caef0e6f-ed94-4add-ae79-f765f7581ebf",
        "outputId": "d392ef96-de28-46bd-f16e-2d7a83d77b88"
      },
      "outputs": [
        {
          "name": "stdout",
          "output_type": "stream",
          "text": [
            "1\n",
            "2\n",
            "3\n",
            "4\n",
            "5\n",
            "6\n",
            "7\n",
            "8\n",
            "9\n",
            "10\n"
          ]
        }
      ],
      "source": [
        "# define a range for 1 to 10 and iterate through it using for loop:\n",
        "for i in range(1,11):\n",
        "    print(i)"
      ]
    },
    {
      "cell_type": "markdown",
      "id": "1846d572-9676-40e7-8daf-ec7e1501f329",
      "metadata": {
        "id": "1846d572-9676-40e7-8daf-ec7e1501f329"
      },
      "source": [
        "### 2. Explain the difference between a for loop and a while loop in Python."
      ]
    },
    {
      "cell_type": "code",
      "execution_count": null,
      "id": "149cc095-0cc0-4e4d-a10d-d9aa97f28620",
      "metadata": {
        "id": "149cc095-0cc0-4e4d-a10d-d9aa97f28620",
        "outputId": "e1ac7be9-f7ce-458d-90e1-84e5de25f46a"
      },
      "outputs": [
        {
          "data": {
            "text/plain": [
              "' 1. for loops are used when you know the number of iterations in advance,and while loops are used when you need to repeat a task until a\\nspecific condition is met or when the number of iterations is determined dynamically.\\n2. for loops have more predictable control flow since you know the number of iterations in advance.They are less prone to cause infinite \\nloops ,as long as the iterable is finite.\\n3. while loop requires careful handling of conditions to avoid infinite loops.If the condition never becomes false,the loop will run\\nindefinitely which can lead to program crashes.'"
            ]
          },
          "execution_count": 11,
          "metadata": {},
          "output_type": "execute_result"
        }
      ],
      "source": [
        "''' 1. for loops are used when you know the number of iterations in advance,and while loops are used when you need to repeat a task until a\n",
        "specific condition is met or when the number of iterations is determined dynamically.\n",
        "2. for loops have more predictable control flow since you know the number of iterations in advance.They are less prone to cause infinite\n",
        "loops ,as long as the iterable is finite.\n",
        "3. while loop requires careful handling of conditions to avoid infinite loops.If the condition never becomes false,the loop will run\n",
        "indefinitely which can lead to program crashes.'''"
      ]
    },
    {
      "cell_type": "markdown",
      "id": "ac40c14c-48ae-4c2f-9eac-0c38729faefc",
      "metadata": {
        "id": "ac40c14c-48ae-4c2f-9eac-0c38729faefc"
      },
      "source": [
        "### 3. Write a Python program to calculate the sum of all numbers from 1 to 100 using a for loop."
      ]
    },
    {
      "cell_type": "code",
      "execution_count": null,
      "id": "86f1ca7a-c541-465a-82e1-5e3647afef8f",
      "metadata": {
        "id": "86f1ca7a-c541-465a-82e1-5e3647afef8f",
        "outputId": "47fd0805-6862-46ca-bc6e-a37b24fa533a"
      },
      "outputs": [
        {
          "name": "stdout",
          "output_type": "stream",
          "text": [
            "5050\n"
          ]
        }
      ],
      "source": [
        "# intitialize a variable to store sum:\n",
        "sum = 0\n",
        "# use for loop to iterate over the range:\n",
        "for i in range(1,101):\n",
        "    # find the sum:\n",
        "    sum =sum+ i\n",
        "print(sum)\n"
      ]
    },
    {
      "cell_type": "markdown",
      "id": "f21d04dc-ca1b-482b-9464-61edebd1bcaf",
      "metadata": {
        "id": "f21d04dc-ca1b-482b-9464-61edebd1bcaf"
      },
      "source": [
        "### 4. How do you iterate through a list using a for loop in Python?\n"
      ]
    },
    {
      "cell_type": "code",
      "execution_count": null,
      "id": "4269944f-0503-4894-8a42-dc0c1a621950",
      "metadata": {
        "id": "4269944f-0503-4894-8a42-dc0c1a621950",
        "outputId": "9c23cf6c-643e-48a6-9649-44be056fb8b0"
      },
      "outputs": [
        {
          "name": "stdout",
          "output_type": "stream",
          "text": [
            "1\n",
            "2\n",
            "3\n",
            "5\n",
            "vanshu\n"
          ]
        }
      ],
      "source": [
        "lst = [1,2,3,5,\"vanshu\"] # here lst is the varibale that stores the list.\n",
        "# now the for loop will iterate through the lst in which i access all the values in the lst.\n",
        "for i in lst:\n",
        "    print(i)"
      ]
    },
    {
      "cell_type": "markdown",
      "id": "5b5a8ade-0fbe-47e3-a6d5-109863dbcae0",
      "metadata": {
        "id": "5b5a8ade-0fbe-47e3-a6d5-109863dbcae0"
      },
      "source": [
        "### 5. Write a Python program to find the product of all elements in a list using a for loop.\n"
      ]
    },
    {
      "cell_type": "code",
      "execution_count": null,
      "id": "71193d27-3d44-4059-bb2f-4022077b85a0",
      "metadata": {
        "id": "71193d27-3d44-4059-bb2f-4022077b85a0",
        "outputId": "f953f116-f854-4919-cd84-0eb70ade5bb2"
      },
      "outputs": [
        {
          "name": "stdout",
          "output_type": "stream",
          "text": [
            "120\n"
          ]
        }
      ],
      "source": [
        "# create a list:\n",
        "a = [1,2,3,4,5]\n",
        "# initialize a variable to store the product.\n",
        "b = 1\n",
        "# use for loop to iterate over the list:\n",
        "for i in a:\n",
        "    # find the product:\n",
        "    b = b*i\n",
        "print(b)\n"
      ]
    },
    {
      "cell_type": "markdown",
      "id": "a888dcd7-b3cc-4a12-a42e-b3b6cbe9745e",
      "metadata": {
        "id": "a888dcd7-b3cc-4a12-a42e-b3b6cbe9745e"
      },
      "source": [
        "### 6. Create a Python program that prints all even numbers from 1 to 20 using a for loop.\n"
      ]
    },
    {
      "cell_type": "code",
      "execution_count": null,
      "id": "85728cb3-7e97-457b-8ad8-5777c0ee7722",
      "metadata": {
        "id": "85728cb3-7e97-457b-8ad8-5777c0ee7722",
        "outputId": "26853351-0d27-4c84-91a0-38305dfb5ace"
      },
      "outputs": [
        {
          "name": "stdout",
          "output_type": "stream",
          "text": [
            "2\n",
            "4\n",
            "6\n",
            "8\n",
            "10\n",
            "12\n",
            "14\n",
            "16\n",
            "18\n",
            "20\n"
          ]
        }
      ],
      "source": [
        "# use for loop to iterate through the numbers from 1 to 20:\n",
        "for i in range(1,21):\n",
        "    # find the even numbers.\n",
        "    if i%2==0:\n",
        "\n",
        "        ## print the even numbers.\n",
        "        print(i)"
      ]
    },
    {
      "cell_type": "markdown",
      "id": "f6a301a8-a06e-4b4f-883c-e3f59cc3ba29",
      "metadata": {
        "id": "f6a301a8-a06e-4b4f-883c-e3f59cc3ba29"
      },
      "source": [
        "### 7. Write a Python program that calculates the factorial of a number using a for loop.\n"
      ]
    },
    {
      "cell_type": "code",
      "execution_count": null,
      "id": "7222f994-545e-455b-96d8-230296db00d2",
      "metadata": {
        "id": "7222f994-545e-455b-96d8-230296db00d2",
        "outputId": "69fa0cca-60bf-4964-af71-d1be5f7f6882"
      },
      "outputs": [
        {
          "data": {
            "text/plain": [
              "120"
            ]
          },
          "execution_count": 21,
          "metadata": {},
          "output_type": "execute_result"
        }
      ],
      "source": [
        "# define a function to find out the factorial:\n",
        "def fact_num(n):\n",
        "    # initialize a variable:\n",
        "    a = 1\n",
        "    # use for loop to iterate through the whole values.\n",
        "    for i in range(1,n+1):\n",
        "        a = a*i\n",
        "    # return the factorial.\n",
        "    return a\n",
        "\n",
        "# call the function:\n",
        "fact_num(5)"
      ]
    },
    {
      "cell_type": "code",
      "execution_count": null,
      "id": "501af11e-0313-4c03-924f-8f403f463dcf",
      "metadata": {
        "id": "501af11e-0313-4c03-924f-8f403f463dcf",
        "outputId": "d4312576-5de6-4d39-c42e-189e7596e493"
      },
      "outputs": [
        {
          "name": "stdin",
          "output_type": "stream",
          "text": [
            "enter the value here: 5\n"
          ]
        },
        {
          "name": "stdout",
          "output_type": "stream",
          "text": [
            "factorial is: 120\n"
          ]
        }
      ],
      "source": [
        "n = int(input(\"enter the value here:\"))\n",
        "a = 1\n",
        "if n<=0:\n",
        "    if n == 0:\n",
        "        print(\"factorial is 1\")\n",
        "    else:\n",
        "        print(\"factorial dont allow negative numbers.\")\n",
        "\n",
        "else:\n",
        "    for i in range(1,n+1):\n",
        "        a = a*i\n",
        "    print(\"factorial is:\",a)"
      ]
    },
    {
      "cell_type": "code",
      "execution_count": null,
      "id": "e1225aac-6ede-43a7-9ae1-c50461cc7893",
      "metadata": {
        "id": "e1225aac-6ede-43a7-9ae1-c50461cc7893"
      },
      "outputs": [],
      "source": []
    },
    {
      "cell_type": "markdown",
      "id": "e1541125-7918-4a73-aa33-3993241f42cd",
      "metadata": {
        "id": "e1541125-7918-4a73-aa33-3993241f42cd"
      },
      "source": [
        "### 8. How can you iterate through the characters of a string using a for loop in Python?"
      ]
    },
    {
      "cell_type": "code",
      "execution_count": null,
      "id": "ff69676d-312d-405f-bb24-310593d1076e",
      "metadata": {
        "id": "ff69676d-312d-405f-bb24-310593d1076e",
        "outputId": "0b110ff6-c508-4fbf-b96b-8e3d9dfcff1b"
      },
      "outputs": [
        {
          "name": "stdout",
          "output_type": "stream",
          "text": [
            "i\n",
            " \n",
            "a\n",
            "m\n",
            " \n",
            "o\n",
            "k\n",
            "a\n",
            "y\n"
          ]
        }
      ],
      "source": [
        "# take a string:\n",
        "s = \"i am okay\"\n",
        "# using for loop to iterate through the string:\n",
        "for i in s:\n",
        "    print(i)"
      ]
    },
    {
      "cell_type": "markdown",
      "id": "4043d596-7b3b-4bac-be49-0d255973f1cd",
      "metadata": {
        "id": "4043d596-7b3b-4bac-be49-0d255973f1cd"
      },
      "source": [
        "### 9. Write a Python program to find the largest number in a list using a for loop."
      ]
    },
    {
      "cell_type": "code",
      "execution_count": null,
      "id": "78e7b992-201b-48c2-acb5-50e7502a433c",
      "metadata": {
        "id": "78e7b992-201b-48c2-acb5-50e7502a433c",
        "outputId": "af8dafec-8489-4c32-db9b-a3719b455895"
      },
      "outputs": [
        {
          "name": "stdout",
          "output_type": "stream",
          "text": [
            "98\n"
          ]
        }
      ],
      "source": [
        "# take a list:\n",
        "lst = [5,6,89,45,63,98]\n",
        "\n",
        "# use for loop to iterate through the list:\n",
        "for i in lst:\n",
        "    # find the largest number using max.\n",
        "    if i == max(lst):\n",
        "        print(i)\n"
      ]
    },
    {
      "cell_type": "code",
      "execution_count": null,
      "id": "2c2779ab-ded2-4104-85cf-abe7c7ef63db",
      "metadata": {
        "id": "2c2779ab-ded2-4104-85cf-abe7c7ef63db",
        "outputId": "f6d99dc5-9d98-4255-be9f-4a5f6018bc71"
      },
      "outputs": [
        {
          "name": "stdout",
          "output_type": "stream",
          "text": [
            "6\n"
          ]
        }
      ],
      "source": [
        "lst = [2,5,6,3]\n",
        "a =lst[0]\n",
        "for i in lst:\n",
        "    if i>a:\n",
        "        a=i\n",
        "print(a)"
      ]
    },
    {
      "cell_type": "markdown",
      "id": "567ed389-65cc-4983-9fa4-db7011e5ed20",
      "metadata": {
        "id": "567ed389-65cc-4983-9fa4-db7011e5ed20"
      },
      "source": [
        "### 10. Create a Python program that prints the Fibonacci sequence up to a specified limit using a for loop."
      ]
    },
    {
      "cell_type": "code",
      "execution_count": null,
      "id": "a38e2a92-bfc3-4394-9ca3-92537ecfa711",
      "metadata": {
        "id": "a38e2a92-bfc3-4394-9ca3-92537ecfa711",
        "outputId": "92a04879-8a53-4132-efd2-0a701a6e5354"
      },
      "outputs": [
        {
          "name": "stdin",
          "output_type": "stream",
          "text": [
            "enter the limit for fibonacci sequence: 5\n"
          ]
        },
        {
          "name": "stdout",
          "output_type": "stream",
          "text": [
            "[0, 1, 1, 2, 3]\n"
          ]
        }
      ],
      "source": [
        "limit = int(input(\"enter the limit for fibonacci sequence:\"))\n",
        "c = [0,1]\n",
        "for i in range(2,limit):\n",
        "    d = c[i-1] + c[i-2]\n",
        "    if d<=limit:\n",
        "        c.append(d)\n",
        "    else:\n",
        "        break\n",
        "print(c)"
      ]
    },
    {
      "cell_type": "code",
      "execution_count": 58,
      "id": "92d1f1af-320a-4426-a8f8-1f4854977c82",
      "metadata": {
        "id": "92d1f1af-320a-4426-a8f8-1f4854977c82",
        "outputId": "32d0e041-fbf8-477b-d4ac-ad6282f830cc",
        "colab": {
          "base_uri": "https://localhost:8080/"
        }
      },
      "outputs": [
        {
          "output_type": "stream",
          "name": "stdout",
          "text": [
            "enter the limit for fibonacci sequence:2\n",
            "[0, 1, 1]\n"
          ]
        }
      ],
      "source": [
        "limit = int(input(\"enter the limit for fibonacci sequence:\"))\n",
        "c = [0,1]\n",
        "d = c[-1] + c[-2]\n",
        "while d<=limit:\n",
        "  d = c[-1] + c[-2]\n",
        "  c.append(d)\n",
        "  break\n",
        "print(c)"
      ]
    },
    {
      "cell_type": "markdown",
      "id": "cae275c6-2826-4e07-a27e-b303807c1b38",
      "metadata": {
        "id": "cae275c6-2826-4e07-a27e-b303807c1b38"
      },
      "source": [
        "### 11. Write a Python program to count the number of vowels in a given string using a for loop."
      ]
    },
    {
      "cell_type": "code",
      "execution_count": null,
      "id": "fc961a08-8262-46e1-8c2b-5555df9826d3",
      "metadata": {
        "id": "fc961a08-8262-46e1-8c2b-5555df9826d3",
        "outputId": "540ea235-46e6-4efe-cd6b-0e9dd0b8c0f6"
      },
      "outputs": [
        {
          "name": "stdout",
          "output_type": "stream",
          "text": [
            "the number of vowels in s is: 7\n"
          ]
        }
      ],
      "source": [
        "# take a string.\n",
        "s = \"This is today's assignment.\"\n",
        "s = s.casefold()\n",
        "# intialize a variable :\n",
        "count = 0\n",
        "\n",
        "# to count the vowels in the string use for loop to iterate through the string:\n",
        "for i in s:\n",
        "    if i in 'aeiou':\n",
        "        count += 1\n",
        "print(\"the number of vowels in s is:\",count)\n",
        "\n"
      ]
    },
    {
      "cell_type": "markdown",
      "id": "cef89966-e176-40da-8788-e5264c986f6e",
      "metadata": {
        "id": "cef89966-e176-40da-8788-e5264c986f6e"
      },
      "source": [
        "### 12. Create a Python program that generates a multiplication table for a given number using a for loop."
      ]
    },
    {
      "cell_type": "code",
      "execution_count": null,
      "id": "154b349d-65df-4cba-b9fa-7aced4c98740",
      "metadata": {
        "id": "154b349d-65df-4cba-b9fa-7aced4c98740",
        "outputId": "660ad9a3-b055-4fb9-e154-e726b46aad74"
      },
      "outputs": [
        {
          "name": "stdout",
          "output_type": "stream",
          "text": [
            "5 x 1 = 5\n",
            "5 x 2 = 10\n",
            "5 x 3 = 15\n",
            "5 x 4 = 20\n",
            "5 x 5 = 25\n",
            "5 x 6 = 30\n",
            "5 x 7 = 35\n",
            "5 x 8 = 40\n",
            "5 x 9 = 45\n",
            "5 x 10 = 50\n"
          ]
        }
      ],
      "source": [
        "# take a number whose multiplication table is to find:\n",
        "n = 5\n",
        "# use for loop:\n",
        "for i in range(1,11):\n",
        "    # generate the multiplication table:\n",
        "    mult = i*n\n",
        "    print(f\"{n} x {i} =\",mult)"
      ]
    },
    {
      "cell_type": "markdown",
      "id": "7400284c-3b94-4869-b231-10c71de20976",
      "metadata": {
        "id": "7400284c-3b94-4869-b231-10c71de20976"
      },
      "source": [
        "### 13. Write a Python program to reverse a list using a for loop."
      ]
    },
    {
      "cell_type": "code",
      "execution_count": null,
      "id": "6369de02-54b2-490c-b01b-90c7505c45bc",
      "metadata": {
        "id": "6369de02-54b2-490c-b01b-90c7505c45bc",
        "outputId": "16064a41-e39e-41e3-8c42-0b4791888538"
      },
      "outputs": [
        {
          "name": "stdout",
          "output_type": "stream",
          "text": [
            "[True, 6, 5, 4, 'vanshu']\n"
          ]
        }
      ],
      "source": [
        "# initialize a list:\n",
        "lst = [\"vanshu\",4,5,6,True]\n",
        "\n",
        "# use for loop to reverse the lst:\n",
        "for i in lst:\n",
        "    reverse = lst[::-1]\n",
        "print(reverse)"
      ]
    },
    {
      "cell_type": "markdown",
      "id": "915c1009-2e82-410d-a113-be30d239ce0f",
      "metadata": {
        "id": "915c1009-2e82-410d-a113-be30d239ce0f"
      },
      "source": [
        "### 14. Write a Python program to find the common elements between two lists using a for loop."
      ]
    },
    {
      "cell_type": "code",
      "execution_count": null,
      "id": "fe283828-7a33-4ec6-ace2-af0f1e942f9d",
      "metadata": {
        "id": "fe283828-7a33-4ec6-ace2-af0f1e942f9d",
        "outputId": "e2dd3a16-139b-490a-9c87-e7d6e9d0f6e9"
      },
      "outputs": [
        {
          "name": "stdout",
          "output_type": "stream",
          "text": [
            "5\n"
          ]
        }
      ],
      "source": [
        "# initialize two lists:\n",
        "l1 = [1,2,34,5,63]\n",
        "l2 = [5,6,7,8,9]\n",
        "#use for loop to find the common elements:\n",
        "for i in l1:\n",
        "    if i in l2:\n",
        "        # print the common elements:\n",
        "        print(i)"
      ]
    },
    {
      "cell_type": "markdown",
      "id": "05d2cab9-682a-4df4-bfc1-3f2f47c71394",
      "metadata": {
        "id": "05d2cab9-682a-4df4-bfc1-3f2f47c71394"
      },
      "source": [
        "### 15. Explain how to use a for loop to iterate through the keys and values of a dictionary in Python."
      ]
    },
    {
      "cell_type": "code",
      "execution_count": null,
      "id": "9b107cea-e749-4535-a8f6-2565315b1c96",
      "metadata": {
        "id": "9b107cea-e749-4535-a8f6-2565315b1c96",
        "outputId": "9300528c-af9b-4599-fd1e-396d36c0d4cd"
      },
      "outputs": [
        {
          "name": "stdout",
          "output_type": "stream",
          "text": [
            "name vanshika\n",
            "surname jain\n",
            "class python\n"
          ]
        }
      ],
      "source": [
        "# first take a dictionary:\n",
        "d = {'name':'vanshika','surname':'jain','class':'python'}\n",
        "\n",
        "# use for loop to iterate through the keys and values of the dictionary.\n",
        "for key,values in d.items():\n",
        "    # print the keys and values.\n",
        "    print(key,values)"
      ]
    },
    {
      "cell_type": "code",
      "execution_count": null,
      "id": "6113b2d0-5703-4e11-ab8e-d68c3ecc43b2",
      "metadata": {
        "id": "6113b2d0-5703-4e11-ab8e-d68c3ecc43b2",
        "outputId": "60095683-2bc8-47dd-b990-f3db26b36f59"
      },
      "outputs": [
        {
          "name": "stdout",
          "output_type": "stream",
          "text": [
            "name vanshika\n",
            "surname jain\n",
            "class python\n"
          ]
        }
      ],
      "source": [
        "for key in d:\n",
        "    print(key,d[key])"
      ]
    },
    {
      "cell_type": "markdown",
      "id": "fbf981c5-f273-4319-8013-4eaf6fac8dfb",
      "metadata": {
        "id": "fbf981c5-f273-4319-8013-4eaf6fac8dfb"
      },
      "source": [
        "### 16. Write a Python program to find the GCD (Greatest Common Divisor) of two numbers using a for loop."
      ]
    },
    {
      "cell_type": "code",
      "execution_count": null,
      "id": "e83b9b5a-c588-4855-96d8-67f5ea694d25",
      "metadata": {
        "id": "e83b9b5a-c588-4855-96d8-67f5ea694d25",
        "outputId": "83a4baa5-72e7-4113-e016-d4439e4937e2"
      },
      "outputs": [
        {
          "name": "stdin",
          "output_type": "stream",
          "text": [
            "enter your first number here:  2\n",
            "enter your second number here:  4\n"
          ]
        },
        {
          "name": "stdout",
          "output_type": "stream",
          "text": [
            "2\n"
          ]
        }
      ],
      "source": [
        "## take input from the user:\n",
        "a = int(input(\"enter your first number here: \"))\n",
        "b = int(input(\"enter your second number here: \"))\n",
        "\n",
        "## find the minimum of two numbers:\n",
        "min_num = min(a,b)\n",
        "\n",
        "## initialize greatest common divisor as 1:\n",
        "gcd = 1\n",
        "\n",
        "## use for loop to find gcd:\n",
        "for i in range(1,min_num+1):\n",
        "    if a%i==0 and b%i==0:\n",
        "        gcd = i\n",
        "print(gcd)"
      ]
    },
    {
      "cell_type": "markdown",
      "id": "2443d4f5-3248-4277-9714-7a043140966a",
      "metadata": {
        "id": "2443d4f5-3248-4277-9714-7a043140966a"
      },
      "source": [
        "### 17. Create a Python program that checks if a string is a palindrome using a for loop."
      ]
    },
    {
      "cell_type": "code",
      "execution_count": null,
      "id": "5c8b4a59-6efb-408e-aeac-cc8be5e81dd7",
      "metadata": {
        "id": "5c8b4a59-6efb-408e-aeac-cc8be5e81dd7",
        "colab": {
          "base_uri": "https://localhost:8080/"
        },
        "outputId": "3463a7ce-057e-4106-bf9f-99fda73fe9b2"
      },
      "outputs": [
        {
          "output_type": "stream",
          "name": "stdout",
          "text": [
            "enter you string here: raccar\n",
            "the entered string is palindrome.\n"
          ]
        }
      ],
      "source": [
        "string = input(\"enter you string here: \")\n",
        "\n",
        "string = string.replace(\" \",\"\").lower()\n",
        "\n",
        "is_palindrome = True\n",
        "length = len(string)\n",
        "\n",
        "for i in range(length//2):\n",
        "  if string[i] != string[length -i-1]:\n",
        "    is_palindrome = False\n",
        "    break\n",
        "\n",
        "if is_palindrome:\n",
        "  print(\"the entered string is palindrome.\")\n",
        "else:\n",
        "  print(\"the entered string is not palindrome.\")"
      ]
    },
    {
      "cell_type": "markdown",
      "source": [
        "### 18)Write a Python program to remove duplicates from a list using a for loop."
      ],
      "metadata": {
        "id": "We-YAOStOt4k"
      },
      "id": "We-YAOStOt4k"
    },
    {
      "cell_type": "code",
      "execution_count": null,
      "id": "d57fa5fb-0586-418a-8a07-4ee3cb24249d",
      "metadata": {
        "id": "d57fa5fb-0586-418a-8a07-4ee3cb24249d",
        "colab": {
          "base_uri": "https://localhost:8080/"
        },
        "outputId": "f8cceb38-1e9b-46d7-838c-f8215661d4f4"
      },
      "outputs": [
        {
          "output_type": "stream",
          "name": "stdout",
          "text": [
            "original list:  [4, 5, 8, 9, 9, 4, 5, 6]\n",
            "list without duplicates:  [4, 5, 8, 9, 6]\n"
          ]
        }
      ],
      "source": [
        "original_lst = [4,5,8,9,9,4,5,6]\n",
        "\n",
        "unique_list =[]\n",
        "\n",
        "for i in original_lst:\n",
        "  if i not in unique_list:\n",
        "    unique_list.append(i)\n",
        "\n",
        "\n",
        "print(\"original list: \",original_lst)\n",
        "print(\"list without duplicates: \",unique_list)"
      ]
    },
    {
      "cell_type": "markdown",
      "source": [
        "### 19)Create a Python program that counts the number of words in a sentence using a for loop."
      ],
      "metadata": {
        "id": "eGaIqrgIPqpv"
      },
      "id": "eGaIqrgIPqpv"
    },
    {
      "cell_type": "code",
      "source": [
        "sentence = input(\"enetr your sentence here: \")\n",
        "\n",
        "count = 0\n",
        "\n",
        "for i in sentence.split():\n",
        "  count += 1\n",
        "\n",
        "print(\"number of words in the sentence =\" ,count)"
      ],
      "metadata": {
        "colab": {
          "base_uri": "https://localhost:8080/"
        },
        "id": "b3GPzci8Pwo5",
        "outputId": "c323c9f4-8f59-4f5e-ff52-d703c42c3274"
      },
      "id": "b3GPzci8Pwo5",
      "execution_count": null,
      "outputs": [
        {
          "output_type": "stream",
          "name": "stdout",
          "text": [
            "enetr your sentence here: welcome to the junglebook.\n",
            "number of words in the sentence = 4\n"
          ]
        }
      ]
    },
    {
      "cell_type": "markdown",
      "id": "15a2b518-059d-4e87-8dc9-d66420639716",
      "metadata": {
        "id": "15a2b518-059d-4e87-8dc9-d66420639716"
      },
      "source": [
        "### 20. Write a Python program to find the sum of all odd numbers from 1 to 50 using a for loop."
      ]
    },
    {
      "cell_type": "code",
      "execution_count": null,
      "id": "b5681127-2cff-4b04-bd4b-d27256238315",
      "metadata": {
        "id": "b5681127-2cff-4b04-bd4b-d27256238315",
        "outputId": "2710784a-d18f-4075-d1c8-0e396a0d68d2"
      },
      "outputs": [
        {
          "name": "stdout",
          "output_type": "stream",
          "text": [
            "625\n"
          ]
        }
      ],
      "source": [
        "#initialize a variable to store sum:\n",
        "sum = 0\n",
        "## use for loop to iterate over the range:\n",
        "for i in range(1,51):\n",
        "    if i%2!=0:\n",
        "        sum = sum + i\n",
        "print(sum)"
      ]
    },
    {
      "cell_type": "markdown",
      "source": [
        "### 21)Write a Python program that checks if a given year is a leap year using a for loop.\n"
      ],
      "metadata": {
        "id": "U9yn3Cv-QiJL"
      },
      "id": "U9yn3Cv-QiJL"
    },
    {
      "cell_type": "code",
      "execution_count": null,
      "id": "26c49a13-bbea-4b0f-a60f-84c449cd1bf7",
      "metadata": {
        "id": "26c49a13-bbea-4b0f-a60f-84c449cd1bf7",
        "colab": {
          "base_uri": "https://localhost:8080/"
        },
        "outputId": "e9b6a2df-9f10-476e-cf7d-d9437b38592e"
      },
      "outputs": [
        {
          "output_type": "stream",
          "name": "stdout",
          "text": [
            "enter the year: 2004\n",
            "the given year : 2004 is a leap year.\n"
          ]
        }
      ],
      "source": [
        "# take year from the user:\n",
        "year = int(input(\"enter the year: \"))\n",
        "\n",
        "# initialize a variable to store if the year is leap year:\n",
        "is_leap_year = False\n",
        "\n",
        "## using for loop to check whethe the year is leap or not:\n",
        "for i in range(4,year +1,4):\n",
        "  if i == year:\n",
        "    is_leap_year = True\n",
        "    break\n",
        "\n",
        "## print the result:\n",
        "if is_leap_year :\n",
        "  print(\"the given year :\",year,\"is a leap year.\")\n",
        "else:\n",
        "  print(\"its not a leap year.\")"
      ]
    },
    {
      "cell_type": "markdown",
      "id": "f9cc55cc-e436-406e-b0d1-aed1e1fcb28c",
      "metadata": {
        "id": "f9cc55cc-e436-406e-b0d1-aed1e1fcb28c"
      },
      "source": [
        "### 22. Create a Python program that calculates the square root of a number using a for loop.\n"
      ]
    },
    {
      "cell_type": "code",
      "source": [
        "# Input a number for which you want to calculate the square root\n",
        "num = float(input(\"Enter a number: \"))\n",
        "\n",
        "# Initial guess for the square root\n",
        "guess = num / 2\n",
        "\n",
        "# Number of iterations for approximation\n",
        "iterations = 10  # You can adjust the number of iterations as needed\n",
        "\n",
        "# Use a for loop for approximation\n",
        "for _ in range(iterations):\n",
        "    guess = 0.5 * (guess + (num / guess))\n",
        "\n",
        "# Print the approximate square root\n",
        "print(f\"The approximate square root of {num} is {guess}\")\n",
        "\n"
      ],
      "metadata": {
        "id": "Fe1ZVW5dScHG",
        "colab": {
          "base_uri": "https://localhost:8080/"
        },
        "outputId": "c608e7dc-dd96-4731-f291-208aa110f9f2"
      },
      "id": "Fe1ZVW5dScHG",
      "execution_count": 9,
      "outputs": [
        {
          "output_type": "stream",
          "name": "stdout",
          "text": [
            "Enter a number: 5\n",
            "The approximate square root of 5.0 is 2.23606797749979\n"
          ]
        }
      ]
    },
    {
      "cell_type": "markdown",
      "source": [
        "### 23. Write a Python program to find the LCM (Least Common Multiple) of two numbers using a for loop."
      ],
      "metadata": {
        "id": "RbayBN14TI-J"
      },
      "id": "RbayBN14TI-J"
    },
    {
      "cell_type": "code",
      "source": [
        "## take two numbers from the user:\n",
        "a = int(input(\"enetr first number here: \"))\n",
        "b = int(input(\"enter second number here: \"))\n",
        "\n",
        "## find the greatest of both:\n",
        "greatest = max(a,b)\n",
        "\n",
        "## using for loop to find the lcm:\n",
        "for i in range(greatest,(a*b)+1):\n",
        "  if i%a == i%b == 0:\n",
        "    lcm = i\n",
        "    break\n",
        "\n",
        "print(\"the lcm of given numbers is: \",lcm)"
      ],
      "metadata": {
        "colab": {
          "base_uri": "https://localhost:8080/"
        },
        "id": "zvs7WEeDSb0y",
        "outputId": "7a7f3268-e6c3-4e99-9de4-671b52379fff"
      },
      "id": "zvs7WEeDSb0y",
      "execution_count": 10,
      "outputs": [
        {
          "output_type": "stream",
          "name": "stdout",
          "text": [
            "enetr first number here: 3\n",
            "enter second number here: 33\n",
            "the lcm of given numbers is:  33\n"
          ]
        }
      ]
    },
    {
      "cell_type": "markdown",
      "id": "5dac5c1a-42d0-4128-8c54-312a3e9bc4df",
      "metadata": {
        "id": "5dac5c1a-42d0-4128-8c54-312a3e9bc4df"
      },
      "source": [
        "## IF-ELSE:"
      ]
    },
    {
      "cell_type": "markdown",
      "id": "bef9c2d9-911b-4c76-a261-f4c55676f6f2",
      "metadata": {
        "id": "bef9c2d9-911b-4c76-a261-f4c55676f6f2"
      },
      "source": [
        "### 1. Write a Python program to check if a number is positive, negative, or zero using an if-else statement."
      ]
    },
    {
      "cell_type": "code",
      "execution_count": null,
      "id": "76f4f39a-a44b-4d34-97de-5243b2767789",
      "metadata": {
        "id": "76f4f39a-a44b-4d34-97de-5243b2767789",
        "outputId": "bfe68be2-621f-484b-e570-87742e42b9ae"
      },
      "outputs": [
        {
          "name": "stdin",
          "output_type": "stream",
          "text": [
            "enter your number here:  -5\n"
          ]
        },
        {
          "name": "stdout",
          "output_type": "stream",
          "text": [
            "-5 is negative.\n"
          ]
        }
      ],
      "source": [
        "# take number from user as input:\n",
        "num = int(input(\"enter your number here: \"))\n",
        "# use if else to check if number is positive negative or zero:\n",
        "if num>0:\n",
        "    print(num, \"is a positive number.\")\n",
        "elif num == 0:\n",
        "    print(num,\"is zero.\")\n",
        "else:\n",
        "    print(num,\"is negative.\")\n"
      ]
    },
    {
      "cell_type": "markdown",
      "id": "5188dbcf-9b62-4eb6-b470-3e1277eb1c1f",
      "metadata": {
        "id": "5188dbcf-9b62-4eb6-b470-3e1277eb1c1f"
      },
      "source": [
        "### 2. Create a Python program that checks if a given number is even or odd using an if-else statement."
      ]
    },
    {
      "cell_type": "code",
      "execution_count": null,
      "id": "2a6bf86f-7480-4763-a2c5-8da40322d281",
      "metadata": {
        "id": "2a6bf86f-7480-4763-a2c5-8da40322d281",
        "outputId": "6eb3a970-33c5-4d9d-a632-86495c381221"
      },
      "outputs": [
        {
          "name": "stdin",
          "output_type": "stream",
          "text": [
            "enter your number here:  5\n"
          ]
        },
        {
          "name": "stdout",
          "output_type": "stream",
          "text": [
            "5 is odd.\n"
          ]
        }
      ],
      "source": [
        "# # take number from user as input:\n",
        "num = int(input(\"enter your number here: \"))\n",
        "\n",
        "# use if-else :\n",
        "if num%2==0:\n",
        "    print(num,\"is even.\")\n",
        "else:\n",
        "    print(num,\"is odd.\")"
      ]
    },
    {
      "cell_type": "markdown",
      "id": "219276ef-aa28-42c5-ab59-a7708a8e936f",
      "metadata": {
        "id": "219276ef-aa28-42c5-ab59-a7708a8e936f"
      },
      "source": [
        "### 3. How can you use nested if-else statements in Python, and provide an example?"
      ]
    },
    {
      "cell_type": "code",
      "execution_count": null,
      "id": "6b4ed5c8-d62f-4bbd-bcc8-91334e7b016e",
      "metadata": {
        "id": "6b4ed5c8-d62f-4bbd-bcc8-91334e7b016e",
        "outputId": "cea85f8c-788c-491a-b97d-fa4a31052ca5"
      },
      "outputs": [
        {
          "name": "stdin",
          "output_type": "stream",
          "text": [
            "enter your number here:  41\n"
          ]
        },
        {
          "name": "stdout",
          "output_type": "stream",
          "text": [
            "41  is positive.\n"
          ]
        }
      ],
      "source": [
        "'''if-else are conditional statements which are use to execute one of two blocks which satisfies the provided condition.When we have to check condition\n",
        "inside a if block or else block we use nested if-else statements.'''\n",
        "## example nested if-else:\n",
        "# to check if the given number is negative ,positive or zero:\n",
        "num = int(input(\"enter your number here: \"))\n",
        "if num>=0:\n",
        "    if num==0:\n",
        "        print(num ,\"is zero.\")\n",
        "    else:\n",
        "        print(num,\" is positive.\")\n",
        "else:\n",
        "    print(num,\" is negative.\")\n",
        "## in this way ,we can use nested if-else."
      ]
    },
    {
      "cell_type": "markdown",
      "id": "51d02e51-e725-4dc1-a497-a30cfebe62b7",
      "metadata": {
        "id": "51d02e51-e725-4dc1-a497-a30cfebe62b7"
      },
      "source": [
        "### 4. Write a Python program to determine the largest of three numbers using if-else."
      ]
    },
    {
      "cell_type": "code",
      "execution_count": null,
      "id": "e6475d95-16eb-46c8-a529-d28af8f780db",
      "metadata": {
        "id": "e6475d95-16eb-46c8-a529-d28af8f780db",
        "outputId": "798c321f-6f23-4708-865c-ad1e156c7b93"
      },
      "outputs": [
        {
          "name": "stdout",
          "output_type": "stream",
          "text": [
            "c = 30 is largest.\n"
          ]
        }
      ],
      "source": [
        "## initialize three values:\n",
        "a = 10\n",
        "b = 20\n",
        "c = 30\n",
        "\n",
        "## use if-else:\n",
        "if a>=b and a>=c:\n",
        "    print(\"a =\",a,\" is largest.\")\n",
        "else:\n",
        "    if b>=a and b>=c:\n",
        "        print(\"b =\",b,\" is largest.\")\n",
        "    else:\n",
        "        print(\"c =\",c, \"is largest.\")"
      ]
    },
    {
      "cell_type": "markdown",
      "id": "f5808c69-cf53-4102-9d05-e07cc8f828ba",
      "metadata": {
        "id": "f5808c69-cf53-4102-9d05-e07cc8f828ba"
      },
      "source": [
        "### 5. Write a Python program that calculates the absolute value of a number using if-else."
      ]
    },
    {
      "cell_type": "code",
      "execution_count": null,
      "id": "9d26b49f-a295-4578-ab51-22282ef35094",
      "metadata": {
        "id": "9d26b49f-a295-4578-ab51-22282ef35094",
        "outputId": "8cbc3a2d-8d0a-4e25-d74e-dcc828627516"
      },
      "outputs": [
        {
          "name": "stdin",
          "output_type": "stream",
          "text": [
            "Enter your number here : -4\n"
          ]
        },
        {
          "name": "stdout",
          "output_type": "stream",
          "text": [
            "4\n"
          ]
        }
      ],
      "source": [
        "## take an input from the user:\n",
        "n = int(input(\"Enter your number here :\"))\n",
        "\n",
        "## use if else to find the absolute value:\n",
        "if n>=0:\n",
        "    print(n)\n",
        "else:\n",
        "    print(-n)"
      ]
    },
    {
      "cell_type": "markdown",
      "id": "d18ef76e-fdbb-4aa8-90d4-27f957700043",
      "metadata": {
        "id": "d18ef76e-fdbb-4aa8-90d4-27f957700043"
      },
      "source": [
        "### 6. Create a Python program that checks if a given character is a vowel or consonant using if-else."
      ]
    },
    {
      "cell_type": "code",
      "execution_count": null,
      "id": "a39581e9-56e6-432e-9d58-7a8cc2d8aefe",
      "metadata": {
        "id": "a39581e9-56e6-432e-9d58-7a8cc2d8aefe",
        "outputId": "1350fcba-0df6-4c82-9d07-2a0fcc41dade"
      },
      "outputs": [
        {
          "name": "stdin",
          "output_type": "stream",
          "text": [
            "enter the character here : k\n"
          ]
        },
        {
          "name": "stdout",
          "output_type": "stream",
          "text": [
            "k  is a consonant.\n"
          ]
        }
      ],
      "source": [
        "# take input from user:\n",
        "s = input(\"enter the character here :\")\n",
        "s = s.casefold()\n",
        "\n",
        "# use if else :\n",
        "if s in \"aeiou\":\n",
        "    print(s,\" is a vowel.\")\n",
        "elif s in \"bcdfghjklmnpqrstvwxyz\":\n",
        "    print(s,\" is a consonant.\")\n",
        "else:\n",
        "    print(\"you didnt enter any alphabetic character.\")\n"
      ]
    },
    {
      "cell_type": "markdown",
      "id": "abf48b41-8f02-4620-9a2c-1110cedfa6cf",
      "metadata": {
        "id": "abf48b41-8f02-4620-9a2c-1110cedfa6cf"
      },
      "source": [
        "### 7. Write a Python program to determine if a user is eligible to vote based on their age using if-else"
      ]
    },
    {
      "cell_type": "code",
      "execution_count": null,
      "id": "e5b29d0f-348e-49d5-9a16-2111dc3eeb20",
      "metadata": {
        "id": "e5b29d0f-348e-49d5-9a16-2111dc3eeb20",
        "outputId": "aa2bfe10-cbc2-410d-89a3-3c2ac8feeaa1"
      },
      "outputs": [
        {
          "name": "stdin",
          "output_type": "stream",
          "text": [
            "enter your age here:  20\n"
          ]
        },
        {
          "name": "stdout",
          "output_type": "stream",
          "text": [
            "you are eligible to vote.\n"
          ]
        }
      ],
      "source": [
        "# take age of the user as input:\n",
        "age = int(input(\"enter your age here: \"))\n",
        "\n",
        "## use if-else:\n",
        "if age>=18:\n",
        "    print(\"you are eligible to vote.\")\n",
        "else:\n",
        "    print(\"you are not eligible.\")"
      ]
    },
    {
      "cell_type": "markdown",
      "id": "49cc458a-a317-4611-b61e-b2c74de49d65",
      "metadata": {
        "id": "49cc458a-a317-4611-b61e-b2c74de49d65"
      },
      "source": [
        "### 8. Create a Python program that calculates the discount amount based on the purchase amount using if-else."
      ]
    },
    {
      "cell_type": "code",
      "execution_count": null,
      "id": "90054a3c-bdff-46d1-98e5-456ee77faa64",
      "metadata": {
        "id": "90054a3c-bdff-46d1-98e5-456ee77faa64",
        "outputId": "deae530f-b75e-4b44-e2b0-5870d6642a07"
      },
      "outputs": [
        {
          "name": "stdin",
          "output_type": "stream",
          "text": [
            "enter the price of your item:  10000\n"
          ]
        },
        {
          "name": "stdout",
          "output_type": "stream",
          "text": [
            "your item price is 9000.0\n"
          ]
        }
      ],
      "source": [
        "# initialize the price of an item:\n",
        "price = int(input(\"enter the price of your item: \"))\n",
        "dis = 0\n",
        "# use if-else:\n",
        "if price>=20000:\n",
        "    dis = 0.2\n",
        "    print(\"your item price is\",(price-(price*dis)))\n",
        "elif price >= 10000:\n",
        "    dis = 0.1\n",
        "    print(\"your item price is\",(price-(price*dis)))\n",
        "else:\n",
        "    print(\"you didn't get any discount.\")\n"
      ]
    },
    {
      "cell_type": "markdown",
      "id": "a36ef0df-a09d-4a11-b82e-d455d1e95682",
      "metadata": {
        "id": "a36ef0df-a09d-4a11-b82e-d455d1e95682"
      },
      "source": [
        "### 9. Write a Python program to check if a number is within a specified range using if-else."
      ]
    },
    {
      "cell_type": "code",
      "execution_count": null,
      "id": "126b461e-13e1-41c7-9283-bd25ca71badb",
      "metadata": {
        "id": "126b461e-13e1-41c7-9283-bd25ca71badb",
        "outputId": "5fbb5995-24f9-41c4-cc23-977a04dce577"
      },
      "outputs": [
        {
          "name": "stdin",
          "output_type": "stream",
          "text": [
            "Enter your number here : 4\n"
          ]
        },
        {
          "name": "stdout",
          "output_type": "stream",
          "text": [
            "4  is within the range.\n"
          ]
        }
      ],
      "source": [
        "## take input from user:\n",
        "n = int(input(\"Enter your number here :\"))\n",
        "\n",
        "## using if-else:\n",
        "if n in range(1,11):\n",
        "    print(n,\" is within the range.\")\n",
        "else:\n",
        "    print(n,\" is out of the range.\")"
      ]
    },
    {
      "cell_type": "markdown",
      "id": "52e1ac1a-b942-4378-9a3f-2961a1d6fc7e",
      "metadata": {
        "id": "52e1ac1a-b942-4378-9a3f-2961a1d6fc7e"
      },
      "source": [
        "### 10. Create a Python program that determines the grade of a student based on their score using if-else."
      ]
    },
    {
      "cell_type": "code",
      "execution_count": null,
      "id": "64dbc7f7-9337-48bf-a2bb-69ccbd613264",
      "metadata": {
        "id": "64dbc7f7-9337-48bf-a2bb-69ccbd613264",
        "outputId": "bb73bcc3-9d8b-42db-a0df-de36660928b2"
      },
      "outputs": [
        {
          "name": "stdin",
          "output_type": "stream",
          "text": [
            "enter your score out of 100:  78\n"
          ]
        },
        {
          "name": "stdout",
          "output_type": "stream",
          "text": [
            "you got B grade.\n"
          ]
        }
      ],
      "source": [
        "## intialize the score of a student :\n",
        "score = int(input(\"enter your score out of 100: \"))\n",
        "\n",
        "# use if-else:\n",
        "if score>=95:\n",
        "    print(\"you got A+ grade.\")\n",
        "elif score>=85:\n",
        "    print(\"you got A grade.\")\n",
        "elif score>=75:\n",
        "    print(\"you got B grade.\")\n",
        "else:\n",
        "    print(\"you got C grade.\")"
      ]
    },
    {
      "cell_type": "markdown",
      "id": "95ff401d-872a-43a6-be97-8d47a0ae7373",
      "metadata": {
        "id": "95ff401d-872a-43a6-be97-8d47a0ae7373"
      },
      "source": [
        "### 11. Write a Python program to check if a string is empty or not using if-else."
      ]
    },
    {
      "cell_type": "code",
      "execution_count": null,
      "id": "0abbde7c-8d2c-4ea0-96d1-ec95268baec0",
      "metadata": {
        "id": "0abbde7c-8d2c-4ea0-96d1-ec95268baec0",
        "outputId": "fa09dab7-b202-457c-daa4-71dfc254cd19"
      },
      "outputs": [
        {
          "name": "stdout",
          "output_type": "stream",
          "text": [
            "string is empty.\n"
          ]
        }
      ],
      "source": [
        "## take a string:\n",
        "s = \"\"\n",
        "\n",
        "# use if-else:\n",
        "if len(s) == 0:\n",
        "    print(\"string is empty.\")\n",
        "else:\n",
        "    print(\"string is not empty.\")"
      ]
    },
    {
      "cell_type": "markdown",
      "id": "5ef84f38-4dce-4285-8dc5-78c6fcdde595",
      "metadata": {
        "id": "5ef84f38-4dce-4285-8dc5-78c6fcdde595"
      },
      "source": [
        "### 12. Create a Python program that identifies the type of a triangle (e.g., equilateral, isosceles, or scalene) based on input values using if-else."
      ]
    },
    {
      "cell_type": "code",
      "execution_count": null,
      "id": "005f1c46-38f2-4c3e-909c-b10eed7d30c8",
      "metadata": {
        "id": "005f1c46-38f2-4c3e-909c-b10eed7d30c8",
        "outputId": "69da5126-d636-43ef-fc4b-c0f42654cbd9"
      },
      "outputs": [
        {
          "name": "stdin",
          "output_type": "stream",
          "text": [
            "enter first side : 4\n",
            "enter second side : 5\n",
            "enter third side : 6\n"
          ]
        },
        {
          "name": "stdout",
          "output_type": "stream",
          "text": [
            "the triangle is scalene.\n"
          ]
        }
      ],
      "source": [
        "## take input as sides from user:\n",
        "a = int(input(\"enter first side :\"))\n",
        "b = int(input(\"enter second side :\"))\n",
        "c = int(input(\"enter third side :\"))\n",
        "\n",
        "## use if-else:\n",
        "if a==b or b==c or a==c:\n",
        "    if a==b==c:\n",
        "        print(\"the triangle is equilateral.\")\n",
        "    else:\n",
        "        print(\"the triangle is isosceles.\")\n",
        "else:\n",
        "    print(\"the triangle is scalene.\")"
      ]
    },
    {
      "cell_type": "markdown",
      "id": "80073c41-696c-4cb5-842c-8644a1d67ecd",
      "metadata": {
        "id": "80073c41-696c-4cb5-842c-8644a1d67ecd"
      },
      "source": [
        "### 13. Write a Python program to determine the day of the week based on a user-provided number using if-else."
      ]
    },
    {
      "cell_type": "code",
      "execution_count": null,
      "id": "2ea96f0e-8d4b-48ab-93da-70d787a7df21",
      "metadata": {
        "id": "2ea96f0e-8d4b-48ab-93da-70d787a7df21",
        "outputId": "4b62351b-c941-4350-b086-a8180886fa36"
      },
      "outputs": [
        {
          "name": "stdin",
          "output_type": "stream",
          "text": [
            "enter a number from 1-7:  1\n"
          ]
        },
        {
          "name": "stdout",
          "output_type": "stream",
          "text": [
            "MONDAY\n"
          ]
        }
      ],
      "source": [
        "# take input from user:\n",
        "n = int(input(\"enter a number from 1-7: \"))\n",
        "\n",
        "# use if-else:\n",
        "if n==1:\n",
        "    print(\"MONDAY\")\n",
        "elif n==2:\n",
        "    print(\"TUESDAY\")\n",
        "elif n==3:\n",
        "    print(\"WEDNESDAY\")\n",
        "elif n==4:\n",
        "    print(\"THURSDAY\")\n",
        "elif n==5:\n",
        "    print(\"FRIDAY\")\n",
        "elif n==6:\n",
        "    print(\"SATURDAY\")\n",
        "elif n==7:\n",
        "    print(\"SUNDAY\")\n",
        "else:\n",
        "    print(\"INVALID NUMBER\")"
      ]
    },
    {
      "cell_type": "markdown",
      "id": "fdc10255-1635-4ff7-b13c-df7e0b90f765",
      "metadata": {
        "id": "fdc10255-1635-4ff7-b13c-df7e0b90f765"
      },
      "source": [
        "### 14. Create a Python program that checks if a given year is a leap year using both if-else and a function"
      ]
    },
    {
      "cell_type": "code",
      "execution_count": null,
      "id": "7966203b-aa2d-45c2-9059-1a1e7e8855ac",
      "metadata": {
        "id": "7966203b-aa2d-45c2-9059-1a1e7e8855ac"
      },
      "outputs": [],
      "source": [
        "# define a function:\n",
        "def leap_year():\n",
        "    x = int(input(\"enter the year: \"))\n",
        "    if x%400==0 and x%100==0:\n",
        "        print(x, \"is a leap year.\")\n",
        "    elif x%4==0 and x%100!=0:\n",
        "        print(x,\"is a leap year.\")\n",
        "    else:\n",
        "        print(\"its not a leap year.\")"
      ]
    },
    {
      "cell_type": "code",
      "execution_count": null,
      "id": "11d113b6-394d-41e2-99bf-ba9b7f935298",
      "metadata": {
        "id": "11d113b6-394d-41e2-99bf-ba9b7f935298",
        "outputId": "7f42ba60-b0bd-459a-b809-39d50f4e6b25"
      },
      "outputs": [
        {
          "name": "stdin",
          "output_type": "stream",
          "text": [
            "enter the year:  2004\n"
          ]
        },
        {
          "name": "stdout",
          "output_type": "stream",
          "text": [
            "2004 is a leap year.\n"
          ]
        }
      ],
      "source": [
        "leap_year()"
      ]
    },
    {
      "cell_type": "markdown",
      "id": "938cd990-2bc5-4e12-8c38-685ddeff38c7",
      "metadata": {
        "id": "938cd990-2bc5-4e12-8c38-685ddeff38c7"
      },
      "source": [
        "### 15. How do you use the \"assert\" statement in Python to add debugging checks within if-else blocks?"
      ]
    },
    {
      "cell_type": "code",
      "execution_count": null,
      "id": "15147f4f-b872-485b-84c0-5d82ccf8ef18",
      "metadata": {
        "id": "15147f4f-b872-485b-84c0-5d82ccf8ef18",
        "colab": {
          "base_uri": "https://localhost:8080/",
          "height": 383
        },
        "outputId": "14e3e8fa-b334-4806-93ff-be4fce538990"
      },
      "outputs": [
        {
          "output_type": "stream",
          "name": "stdout",
          "text": [
            "2.0\n"
          ]
        },
        {
          "output_type": "error",
          "ename": "AssertionError",
          "evalue": "ignored",
          "traceback": [
            "\u001b[0;31m---------------------------------------------------------------------------\u001b[0m",
            "\u001b[0;31mAssertionError\u001b[0m                            Traceback (most recent call last)",
            "\u001b[0;32m<ipython-input-9-f1a47bc9f32e>\u001b[0m in \u001b[0;36m<cell line: 13>\u001b[0;34m()\u001b[0m\n\u001b[1;32m     11\u001b[0m \u001b[0;31m## call the function:\u001b[0m\u001b[0;34m\u001b[0m\u001b[0;34m\u001b[0m\u001b[0m\n\u001b[1;32m     12\u001b[0m \u001b[0mfor_true\u001b[0m \u001b[0;34m=\u001b[0m \u001b[0mdivision\u001b[0m\u001b[0;34m(\u001b[0m\u001b[0;36m10\u001b[0m\u001b[0;34m,\u001b[0m\u001b[0;36m5\u001b[0m\u001b[0;34m)\u001b[0m \u001b[0;31m## nothing problematic\u001b[0m\u001b[0;34m\u001b[0m\u001b[0;34m\u001b[0m\u001b[0m\n\u001b[0;32m---> 13\u001b[0;31m \u001b[0mfor_false\u001b[0m \u001b[0;34m=\u001b[0m \u001b[0mdivision\u001b[0m\u001b[0;34m(\u001b[0m\u001b[0;36m10\u001b[0m\u001b[0;34m,\u001b[0m\u001b[0;36m0\u001b[0m\u001b[0;34m)\u001b[0m \u001b[0;31m## this will give the assertion error.\u001b[0m\u001b[0;34m\u001b[0m\u001b[0;34m\u001b[0m\u001b[0m\n\u001b[0m\u001b[1;32m     14\u001b[0m \u001b[0;34m\u001b[0m\u001b[0m\n\u001b[1;32m     15\u001b[0m \u001b[0mprint\u001b[0m\u001b[0;34m(\u001b[0m\u001b[0mfor_true\u001b[0m\u001b[0;34m)\u001b[0m\u001b[0;34m\u001b[0m\u001b[0;34m\u001b[0m\u001b[0m\n",
            "\u001b[0;32m<ipython-input-9-f1a47bc9f32e>\u001b[0m in \u001b[0;36mdivision\u001b[0;34m(a, b)\u001b[0m\n\u001b[1;32m      6\u001b[0m   \u001b[0;31m## lets take an example :\u001b[0m\u001b[0;34m\u001b[0m\u001b[0;34m\u001b[0m\u001b[0m\n\u001b[1;32m      7\u001b[0m \u001b[0;32mdef\u001b[0m \u001b[0mdivision\u001b[0m\u001b[0;34m(\u001b[0m\u001b[0ma\u001b[0m\u001b[0;34m,\u001b[0m\u001b[0mb\u001b[0m\u001b[0;34m)\u001b[0m\u001b[0;34m:\u001b[0m\u001b[0;34m\u001b[0m\u001b[0;34m\u001b[0m\u001b[0m\n\u001b[0;32m----> 8\u001b[0;31m   \u001b[0;32massert\u001b[0m \u001b[0mb\u001b[0m\u001b[0;34m!=\u001b[0m\u001b[0;36m0\u001b[0m \u001b[0;31m# b should not equal to zero\u001b[0m\u001b[0;34m\u001b[0m\u001b[0;34m\u001b[0m\u001b[0m\n\u001b[0m\u001b[1;32m      9\u001b[0m   \u001b[0mprint\u001b[0m\u001b[0;34m(\u001b[0m\u001b[0ma\u001b[0m\u001b[0;34m/\u001b[0m\u001b[0mb\u001b[0m\u001b[0;34m)\u001b[0m\u001b[0;34m\u001b[0m\u001b[0;34m\u001b[0m\u001b[0m\n\u001b[1;32m     10\u001b[0m \u001b[0;34m\u001b[0m\u001b[0m\n",
            "\u001b[0;31mAssertionError\u001b[0m: "
          ]
        }
      ],
      "source": [
        "'''Assert statement takes as input a boolean condition, which when returns\n",
        " true doesn't do anything and continues the normal flow of execution,\n",
        "  but if it is computed to be false, then it raises an AssertionError\n",
        "   along with the optional message provided.'''\n",
        "\n",
        "  ## lets take an example :\n",
        "def division(a,b):\n",
        "  assert b!=0 # b should not equal to zero\n",
        "  print(a/b)\n",
        "\n",
        "## call the function:\n",
        "for_true = division(10,5) ## nothing problematic\n",
        "for_false = division(10,0) ## this will give the assertion error.\n",
        "\n",
        "print(for_true)\n",
        "print(for_false)\n"
      ]
    },
    {
      "cell_type": "markdown",
      "id": "1e04a7fe-1598-4eb9-b9b9-83c9261607a3",
      "metadata": {
        "id": "1e04a7fe-1598-4eb9-b9b9-83c9261607a3"
      },
      "source": [
        "### 16. Create a Python program that determines the eligibility of a person for a senior citizen discount based on age using if-else."
      ]
    },
    {
      "cell_type": "code",
      "execution_count": null,
      "id": "1a6a6b19-33e5-4bf9-a729-6ab8b4839caf",
      "metadata": {
        "id": "1a6a6b19-33e5-4bf9-a729-6ab8b4839caf",
        "outputId": "2e13872b-1a85-40d4-971f-a0fa510dfee3"
      },
      "outputs": [
        {
          "name": "stdin",
          "output_type": "stream",
          "text": [
            "enter your age here:  65\n"
          ]
        },
        {
          "name": "stdout",
          "output_type": "stream",
          "text": [
            "you are a senior citizen,we have some discount for you.\n"
          ]
        }
      ],
      "source": [
        "## take age of the person as input:\n",
        "age = int(input(\"enter your age here: \"))\n",
        "\n",
        "## using if else to determine the eligibility of person to get senior citizen discount:\n",
        "if age>=60:\n",
        "    print(\"you are a senior citizen,we have some discount for you.\")\n",
        "else:\n",
        "    print(\"not eligible for senior citizen discount.\")"
      ]
    },
    {
      "cell_type": "markdown",
      "id": "6eaf8c14-a37c-40ee-b94e-8a8068f531d8",
      "metadata": {
        "id": "6eaf8c14-a37c-40ee-b94e-8a8068f531d8"
      },
      "source": [
        "### 17. Write a Python program to categorize a given character as uppercase, lowercase, or neither using if-else."
      ]
    },
    {
      "cell_type": "code",
      "execution_count": null,
      "id": "eab0fe07-cde0-4f69-b892-261814e4e038",
      "metadata": {
        "id": "eab0fe07-cde0-4f69-b892-261814e4e038",
        "outputId": "c4464dc1-0197-47d0-dd17-5f0ced3c897f"
      },
      "outputs": [
        {
          "name": "stdin",
          "output_type": "stream",
          "text": [
            "enter your character here:  k\n"
          ]
        },
        {
          "name": "stdout",
          "output_type": "stream",
          "text": [
            "k is lowercase.\n"
          ]
        }
      ],
      "source": [
        "## take a char from user:\n",
        "char = input(\"enter your character here: \")\n",
        "\n",
        "# using if else:\n",
        "if char.isupper():\n",
        "    print(char, \"is uppercase.\")\n",
        "elif char.islower():\n",
        "    print(char, \"is lowercase.\")\n",
        "else:\n",
        "    print(char,\" is neither uppercase nor lowercase. \")"
      ]
    },
    {
      "cell_type": "markdown",
      "id": "f237ab6b-6d71-4152-bc15-f92c2f54511c",
      "metadata": {
        "id": "f237ab6b-6d71-4152-bc15-f92c2f54511c"
      },
      "source": [
        "### 18. Write a Python program to determine the roots of a quadratic equation using if-else."
      ]
    },
    {
      "cell_type": "code",
      "execution_count": null,
      "id": "035210fe-4f75-4c38-bd99-cce2441cd4aa",
      "metadata": {
        "id": "035210fe-4f75-4c38-bd99-cce2441cd4aa",
        "outputId": "ff340448-4c7b-4f7d-bf4c-b5ba9c590940"
      },
      "outputs": [
        {
          "name": "stdin",
          "output_type": "stream",
          "text": [
            "enter the number here:  2\n",
            "enter the number here:  4\n",
            "enter the number here:  6\n"
          ]
        },
        {
          "name": "stdout",
          "output_type": "stream",
          "text": [
            "discriminant = -32\n",
            "roots are imaginary:\n",
            "root1 =  (-3.9999999999999996+5.656854249492381j) root2 = (-4-5.656854249492381j)\n"
          ]
        }
      ],
      "source": [
        "# firstly a quadratic equation i.e. ax**2 + bx + c requires three values,take them from user:\n",
        "a = int(input(\"enter the number here: \"))\n",
        "b = int(input(\"enter the number here: \"))\n",
        "c = int(input(\"enter the number here: \"))\n",
        "\n",
        "# now initialize a variable discriminant:\n",
        "d = (b**2-4*a*c)\n",
        "print(\"discriminant =\",d)\n",
        "\n",
        "## now using if -else to obtain roots:\n",
        "if d >= 0:\n",
        "    if d==0:\n",
        "        print(\"roots are real and same:\")\n",
        "        print((-b)/2*a)\n",
        "    else:\n",
        "        print(\"roots are real and different:\")\n",
        "        print(\"root1 =\",((-b + (d)**0.5)/2*a),\"root2 =\",((-b - (d)**0.5)/2*a))\n",
        "else:\n",
        "    print(\"roots are imaginary:\")\n",
        "    print(\"root1 = \",(-b+(-1*-d)**0.5)/2*a, \"root2 =\",(-b - (-1*-d)**0.5)/2*a)\n"
      ]
    },
    {
      "cell_type": "markdown",
      "id": "5738e87c-99e7-4dfd-8a4d-0468c4643bc0",
      "metadata": {
        "id": "5738e87c-99e7-4dfd-8a4d-0468c4643bc0"
      },
      "source": [
        "### 19. Create a Python program that checks if a given year is a century year or not using if-else."
      ]
    },
    {
      "cell_type": "code",
      "execution_count": null,
      "id": "16955430-46eb-42ed-9e59-a968abe1981d",
      "metadata": {
        "id": "16955430-46eb-42ed-9e59-a968abe1981d",
        "outputId": "928809d8-4fa2-4fef-ad7e-f9c769254906"
      },
      "outputs": [
        {
          "name": "stdin",
          "output_type": "stream",
          "text": [
            "Enter the year:  2000\n"
          ]
        },
        {
          "name": "stdout",
          "output_type": "stream",
          "text": [
            "the year = 2000  is century year.\n"
          ]
        }
      ],
      "source": [
        "# take year from user:\n",
        "year = int(input(\"Enter the year: \"))\n",
        "\n",
        "## use if else to check if the year is century year or not.\n",
        "if year%100==0:\n",
        "    print(\"the year =\",year,\" is century year.\")\n",
        "else:\n",
        "    print(\"the given year is not a century year.\")"
      ]
    },
    {
      "cell_type": "markdown",
      "id": "9d25558c-2a34-4baf-bf15-30235864571d",
      "metadata": {
        "id": "9d25558c-2a34-4baf-bf15-30235864571d"
      },
      "source": [
        "### 20. Write a Python program to determine if a given number is a perfect square using if-else."
      ]
    },
    {
      "cell_type": "code",
      "execution_count": null,
      "id": "eba3039f-5fe1-411d-af6d-dc340252b2e7",
      "metadata": {
        "colab": {
          "base_uri": "https://localhost:8080/"
        },
        "id": "eba3039f-5fe1-411d-af6d-dc340252b2e7",
        "outputId": "36bbe832-02dd-48ff-ae1d-d0b53fde2d27"
      },
      "outputs": [
        {
          "output_type": "stream",
          "name": "stdout",
          "text": [
            "enter the number :25\n",
            "yes\n"
          ]
        }
      ],
      "source": [
        "## take a number :\n",
        "num = int(input(\"enter the number :\"))\n",
        "## find the square root of the number:\n",
        "sqrt = num**0.5\n",
        "## use if-else to check if the number is perfect square or not:\n",
        "if sqrt.is_integer():\n",
        "    print(\"yes\")\n",
        "else:\n",
        "    print(\"no\")\n"
      ]
    },
    {
      "cell_type": "markdown",
      "id": "4a096c26-84ff-46ef-8a12-10822a812cc8",
      "metadata": {
        "id": "4a096c26-84ff-46ef-8a12-10822a812cc8"
      },
      "source": [
        "### 21. Explain the purpose of the \"continue\" and \"break\" statements within if-else loops."
      ]
    },
    {
      "cell_type": "code",
      "execution_count": null,
      "id": "a7fae5bf-302f-49bc-b1cd-cafa9247d075",
      "metadata": {
        "id": "a7fae5bf-302f-49bc-b1cd-cafa9247d075",
        "outputId": "0b513474-363f-4cfc-8cf5-7d1e49adc149"
      },
      "outputs": [
        {
          "data": {
            "text/plain": [
              "'The break statement is used to terminate the loop immediately. \\nThe continue statement is used to skip the current iteration of the loop.\\nBreak:A break statement in Python alters the flow of a loop by terminating itonce a specified condition is met.\\nContinue: The continue statement in Python is used to skip the remaining code inside a loop for the current iteration only.'"
            ]
          },
          "execution_count": 17,
          "metadata": {},
          "output_type": "execute_result"
        }
      ],
      "source": [
        "'''The break statement is used to terminate the loop immediately.\n",
        "The continue statement is used to skip the current iteration of the loop.\n",
        "Break:A break statement in Python alters the flow of a loop by terminating itonce a specified condition is met.\n",
        "Continue: The continue statement in Python is used to skip the remaining code inside a loop for the current iteration only.'''"
      ]
    },
    {
      "cell_type": "markdown",
      "id": "6f64be1f-283b-4629-a9b1-89424521f704",
      "metadata": {
        "id": "6f64be1f-283b-4629-a9b1-89424521f704"
      },
      "source": [
        "### 22. Create a Python program that calculates the BMI (Body Mass Index) of a person based on their weight and height using if-else."
      ]
    },
    {
      "cell_type": "code",
      "execution_count": null,
      "id": "5ad5ac7a-441b-4179-9d36-f95875ef9709",
      "metadata": {
        "colab": {
          "base_uri": "https://localhost:8080/"
        },
        "id": "5ad5ac7a-441b-4179-9d36-f95875ef9709",
        "outputId": "23b82dfc-cea9-4e4c-d342-d31f60e4a8cd"
      },
      "outputs": [
        {
          "output_type": "stream",
          "name": "stdout",
          "text": [
            "76\n",
            "2\n",
            "normal\n"
          ]
        }
      ],
      "source": [
        "## take the weight and height of a person as input:\n",
        "weight = float(input())\n",
        "height = float(input())\n",
        "\n",
        "## calculate BMI:\n",
        "BMI = weight/height**2\n",
        "## use if else:\n",
        "if BMI<18.5:\n",
        "    print(\"underweight.\")\n",
        "elif 18.5<=BMI<25:\n",
        "    print(\"normal\")\n",
        "elif 25<=BMI<30:\n",
        "    print(\"overweight.\")\n",
        "else:\n",
        "    print(\"obese.\")"
      ]
    },
    {
      "cell_type": "markdown",
      "source": [
        "### 23. How can you use the \"filter()\" function with if-else statements to filter elements from a list?"
      ],
      "metadata": {
        "id": "JsaV4qOU5oF9"
      },
      "id": "JsaV4qOU5oF9"
    },
    {
      "cell_type": "code",
      "source": [
        "'''The filter() function selects elements from an iterable (list, tuple etc.) based on the output of a function.\n",
        " The function is applied to each element of the iterable and if it returns True , the element is selected by the filter() function.'''\n",
        " ## for example filter odd number from list:\n",
        "lst = [1,2,3,4,5]\n",
        "\n",
        "## using filter:\n",
        "list(filter(lambda a:a%2!=0,lst))"
      ],
      "metadata": {
        "colab": {
          "base_uri": "https://localhost:8080/"
        },
        "id": "sUuqzFTw5lGG",
        "outputId": "d6209c65-013d-4c55-9225-18516e201ef1"
      },
      "id": "sUuqzFTw5lGG",
      "execution_count": null,
      "outputs": [
        {
          "output_type": "execute_result",
          "data": {
            "text/plain": [
              "[1, 3, 5]"
            ]
          },
          "metadata": {},
          "execution_count": 8
        }
      ]
    },
    {
      "cell_type": "code",
      "source": [],
      "metadata": {
        "id": "j-e6xNgw5eIh"
      },
      "id": "j-e6xNgw5eIh",
      "execution_count": null,
      "outputs": []
    },
    {
      "cell_type": "markdown",
      "source": [
        "### 24. Write a Python program to determine if a given number is prime or not using if-else."
      ],
      "metadata": {
        "id": "6VGwvCOb7Nry"
      },
      "id": "6VGwvCOb7Nry"
    },
    {
      "cell_type": "code",
      "source": [
        "num = int(input(\"enter the number: \"))\n",
        "if num <= 1:\n",
        "  print(\"number is not prime.\")\n",
        "else:\n",
        "  if num == 2:\n",
        "    print(\"2 is prime number.\")\n",
        "  else:\n",
        "    for i in range(2,num):\n",
        "      if num % i != 0:\n",
        "        print(\"Number is prime.\")\n",
        "      else:\n",
        "        print(\"Number is not prime,\")\n"
      ],
      "metadata": {
        "colab": {
          "base_uri": "https://localhost:8080/"
        },
        "id": "hZjefRM95db0",
        "outputId": "f9d57e20-8f29-497e-aafd-fb9d268b27ce"
      },
      "id": "hZjefRM95db0",
      "execution_count": 11,
      "outputs": [
        {
          "output_type": "stream",
          "name": "stdout",
          "text": [
            "enter the number: 3\n",
            "Number is prime.\n"
          ]
        }
      ]
    },
    {
      "cell_type": "markdown",
      "source": [
        "## MAP:"
      ],
      "metadata": {
        "id": "j3aAXvBW-QA2"
      },
      "id": "j3aAXvBW-QA2"
    },
    {
      "cell_type": "markdown",
      "source": [
        "### 1. Explain the purpose of the `map()` function in Python and provide an example of how it can be used to apply a function to each element of an iterable"
      ],
      "metadata": {
        "id": "Cc6DSqru-rQ2"
      },
      "id": "Cc6DSqru-rQ2"
    },
    {
      "cell_type": "code",
      "source": [
        "'''Map in Python is a function that works as an iterator to return a result after applying a function to every item of an iterable (tuple, lists, etc.).\n",
        "It is used when you want to apply a single transformation function to all the iterable elements. The iterable and function are passed as arguments to\n",
        " the map in Python.'''\n",
        "\n",
        " ## for example : take a list and add two to each element of it:\n",
        "lst = [1,2,3,4,5]\n",
        " ## using map function:\n",
        "list(map(lambda a: a+2,lst))\n"
      ],
      "metadata": {
        "colab": {
          "base_uri": "https://localhost:8080/"
        },
        "id": "TvWnfLt-5dLt",
        "outputId": "0ccd82f8-6579-487f-ffa6-3277e1735a93"
      },
      "id": "TvWnfLt-5dLt",
      "execution_count": null,
      "outputs": [
        {
          "output_type": "execute_result",
          "data": {
            "text/plain": [
              "[3, 4, 5, 6, 7]"
            ]
          },
          "metadata": {},
          "execution_count": 25
        }
      ]
    },
    {
      "cell_type": "code",
      "source": [],
      "metadata": {
        "id": "5GcINTjz_pKc"
      },
      "id": "5GcINTjz_pKc",
      "execution_count": null,
      "outputs": []
    },
    {
      "cell_type": "markdown",
      "source": [
        "### 2. Write a Python program that uses the `map()` function to square each element of a list of numbers."
      ],
      "metadata": {
        "id": "JOJxqx0W_p9e"
      },
      "id": "JOJxqx0W_p9e"
    },
    {
      "cell_type": "code",
      "source": [
        "## take a list:\n",
        "lst = [1,2,3,4,5]\n",
        "\n",
        "## use map to square each element of the lst:\n",
        "list(map(lambda a:a**2,lst))"
      ],
      "metadata": {
        "colab": {
          "base_uri": "https://localhost:8080/"
        },
        "id": "d3vaWQcr_o_N",
        "outputId": "bd9bc4c6-91e8-4078-f14c-534ffef8b24e"
      },
      "id": "d3vaWQcr_o_N",
      "execution_count": null,
      "outputs": [
        {
          "output_type": "execute_result",
          "data": {
            "text/plain": [
              "[1, 4, 9, 16, 25]"
            ]
          },
          "metadata": {},
          "execution_count": 26
        }
      ]
    },
    {
      "cell_type": "code",
      "source": [],
      "metadata": {
        "id": "6q_ZpCjG_ov5"
      },
      "id": "6q_ZpCjG_ov5",
      "execution_count": null,
      "outputs": []
    },
    {
      "cell_type": "markdown",
      "source": [
        "### 3. How does the `map()` function differ from a list comprehension in Python, and when would you choose one over the other?"
      ],
      "metadata": {
        "id": "LOe9JPifAM29"
      },
      "id": "LOe9JPifAM29"
    },
    {
      "cell_type": "code",
      "source": [
        "'''List comprehension returns a list, whereas the map function returns an object of Iterable.\n",
        " List comprehension execution is faster than that of map function when the formula expression is huge and complex.\n",
        " Map function is faster than list comprehension when the formula is already defined as a function earlier.'''"
      ],
      "metadata": {
        "colab": {
          "base_uri": "https://localhost:8080/",
          "height": 53
        },
        "id": "5SdW0m3R_oet",
        "outputId": "346677ac-9b26-40aa-d1fe-576607b5db3d"
      },
      "id": "5SdW0m3R_oet",
      "execution_count": null,
      "outputs": [
        {
          "output_type": "execute_result",
          "data": {
            "text/plain": [
              "'List comprehension returns a list, whereas the map function returns an object of Iterable.\\n List comprehension execution is faster than that of map function when the formula expression is huge and complex.\\n Map function is faster than list comprehension when the formula is already defined as a function earlier.'"
            ],
            "application/vnd.google.colaboratory.intrinsic+json": {
              "type": "string"
            }
          },
          "metadata": {},
          "execution_count": 31
        }
      ]
    },
    {
      "cell_type": "markdown",
      "source": [],
      "metadata": {
        "id": "S1YyhWDYAZnS"
      },
      "id": "S1YyhWDYAZnS"
    },
    {
      "cell_type": "markdown",
      "source": [
        "### 4. Create a Python program that uses the `map()` function to convert a list of names to uppercase."
      ],
      "metadata": {
        "id": "VV-Ezlc0AZq2"
      },
      "id": "VV-Ezlc0AZq2"
    },
    {
      "cell_type": "code",
      "source": [
        "## take a list of names:\n",
        "lst = [\"vanshika\",\"gunnu\",\"ashu\",\"pihu\"]\n",
        "\n",
        "## using map to uppercase each elemnet of the list:\n",
        "list(map(lambda a:a.upper(),lst))"
      ],
      "metadata": {
        "colab": {
          "base_uri": "https://localhost:8080/"
        },
        "id": "L9u3-uw5Akh-",
        "outputId": "63518a42-7251-4827-8423-ef1d58dc8fe8"
      },
      "id": "L9u3-uw5Akh-",
      "execution_count": null,
      "outputs": [
        {
          "output_type": "execute_result",
          "data": {
            "text/plain": [
              "['VANSHIKA', 'GUNNU', 'ASHU', 'PIHU']"
            ]
          },
          "metadata": {},
          "execution_count": 28
        }
      ]
    },
    {
      "cell_type": "markdown",
      "source": [
        "### 5.  Write a Python program that uses the `map()` function to calculate the length of each word in a list of strings.\n"
      ],
      "metadata": {
        "id": "ThnLRFlWBUXN"
      },
      "id": "ThnLRFlWBUXN"
    },
    {
      "cell_type": "code",
      "source": [
        "## initialize a list of strings:\n",
        "l = [\"name\",\"class\",\"subject\",\"program\"]\n",
        "\n",
        "## using map to calculate the length of each element of the l:\n",
        "list(map(lambda a:len(a),l))"
      ],
      "metadata": {
        "colab": {
          "base_uri": "https://localhost:8080/"
        },
        "id": "H0XEA5A8AkUn",
        "outputId": "b4e01b81-285c-4540-9c66-0f4a75af993b"
      },
      "id": "H0XEA5A8AkUn",
      "execution_count": null,
      "outputs": [
        {
          "output_type": "execute_result",
          "data": {
            "text/plain": [
              "[4, 5, 7, 7]"
            ]
          },
          "metadata": {},
          "execution_count": 30
        }
      ]
    },
    {
      "cell_type": "markdown",
      "source": [
        "### 6. How can you use the `map()` function to apply a custom function to elements of multiple lists simultaneously in Python?"
      ],
      "metadata": {
        "id": "bGBk6UxoD0ud"
      },
      "id": "bGBk6UxoD0ud"
    },
    {
      "cell_type": "code",
      "source": [
        " '''If you supply multiple iterables to map() , then the transformation function must take as\n",
        " many arguments as iterables you pass in. Each iteration of map() will pass one value from each iterable as\n",
        " an argument to function . The iteration stops at the end of the shortest iterable.'''\n"
      ],
      "metadata": {
        "colab": {
          "base_uri": "https://localhost:8080/",
          "height": 53
        },
        "id": "Fc5n5mI_AkCx",
        "outputId": "3196aaba-ef2f-4149-9800-b540c9f94282"
      },
      "id": "Fc5n5mI_AkCx",
      "execution_count": null,
      "outputs": [
        {
          "output_type": "execute_result",
          "data": {
            "text/plain": [
              "'If you supply multiple iterables to map() , then the transformation function must take as\\nmany arguments as iterables you pass in. Each iteration of map() will pass one value from each iterable as \\nan argument to function . The iteration stops at the end of the shortest iterable.'"
            ],
            "application/vnd.google.colaboratory.intrinsic+json": {
              "type": "string"
            }
          },
          "metadata": {},
          "execution_count": 32
        }
      ]
    },
    {
      "cell_type": "markdown",
      "source": [
        "### 7. Create a Python program that uses `map()` to convert a list of temperatures from Celsius to Fahrenheit."
      ],
      "metadata": {
        "id": "mWh2SAijEdIa"
      },
      "id": "mWh2SAijEdIa"
    },
    {
      "cell_type": "code",
      "source": [
        "## take list of celsius temperatures:\n",
        "temp_celsius = [30,33,58,63,25]\n",
        "\n",
        "## using map to convert it into fahrenheit:\n",
        "list(map(lambda a:(a*9/5)+32 ,temp_celsius))"
      ],
      "metadata": {
        "colab": {
          "base_uri": "https://localhost:8080/"
        },
        "id": "CnTDQY2NAi-D",
        "outputId": "87a4e72d-135c-4532-8cf8-487c4af95e3f"
      },
      "id": "CnTDQY2NAi-D",
      "execution_count": null,
      "outputs": [
        {
          "output_type": "execute_result",
          "data": {
            "text/plain": [
              "[86.0, 91.4, 136.4, 145.4, 77.0]"
            ]
          },
          "metadata": {},
          "execution_count": 37
        }
      ]
    },
    {
      "cell_type": "markdown",
      "source": [
        "### 8. Write a Python program that uses the `map()` function to round each element of a list of floating-point numbers to the nearest integer.\n"
      ],
      "metadata": {
        "id": "NUzb0xK4GO5x"
      },
      "id": "NUzb0xK4GO5x"
    },
    {
      "cell_type": "code",
      "source": [
        "## take a list of floating point numbers:\n",
        "l = [5.5,63.89,85.52,96.12]\n",
        "\n",
        "## use map to convert list of floats into integers:\n",
        "a = list(map(lambda a:int(a),l))\n",
        "\n",
        "## print the list:\n",
        "print(\"the list of integers is:\")\n",
        "print(a)"
      ],
      "metadata": {
        "colab": {
          "base_uri": "https://localhost:8080/"
        },
        "id": "dcmUVoUo5cz0",
        "outputId": "602b2009-c4d0-4261-f807-d753a243ecdc"
      },
      "id": "dcmUVoUo5cz0",
      "execution_count": null,
      "outputs": [
        {
          "output_type": "stream",
          "name": "stdout",
          "text": [
            "the list of integers is:\n",
            "[5, 63, 85, 96]\n"
          ]
        }
      ]
    },
    {
      "cell_type": "markdown",
      "source": [
        "## REDUCE:"
      ],
      "metadata": {
        "id": "G1T_NLGLa1ER"
      },
      "id": "G1T_NLGLa1ER"
    },
    {
      "cell_type": "markdown",
      "source": [
        "### 1. What is the `reduce()` function in Python, and what module should you import to use it? Provide an example of its basic usage."
      ],
      "metadata": {
        "id": "2tutO3rGbA5W"
      },
      "id": "2tutO3rGbA5W"
    },
    {
      "cell_type": "code",
      "source": [
        "''' The reduce(fun,seq) function is used to apply a particular function passed in its argument to all of the list elements mentioned in the sequence passed along.\n",
        "This function is defined in “functools” module. Working : At first step, first two elements of sequence are picked and the result is obtained.'''\n",
        "\n",
        "from functools import reduce\n",
        "\n",
        "## example: to find the sum of all elements in a list:\n",
        "# take a list:\n",
        "l = [5,6,7,8,9]\n",
        "\n",
        "# using reduce function to obtain the result:\n",
        "reduce(lambda a,b:a+b,l)\n"
      ],
      "metadata": {
        "id": "JmhwRD2pDiDz",
        "colab": {
          "base_uri": "https://localhost:8080/"
        },
        "outputId": "1d98541f-d35a-4ab8-bc58-20a73c3b4b2c"
      },
      "id": "JmhwRD2pDiDz",
      "execution_count": null,
      "outputs": [
        {
          "output_type": "execute_result",
          "data": {
            "text/plain": [
              "35"
            ]
          },
          "metadata": {},
          "execution_count": 1
        }
      ]
    },
    {
      "cell_type": "markdown",
      "source": [
        "### 2. Write a Python program that uses the `reduce()` function to find the product of all elements in a list."
      ],
      "metadata": {
        "id": "u4GUlugRcQEG"
      },
      "id": "u4GUlugRcQEG"
    },
    {
      "cell_type": "code",
      "source": [
        "## initialize a list :\n",
        "l = [5,8,9,5,4,2,33]\n",
        "\n",
        "# use reduce to find the product of all elements:\n",
        "reduce(lambda a,b:a*b,l)"
      ],
      "metadata": {
        "id": "0OpWRIULDhmG",
        "colab": {
          "base_uri": "https://localhost:8080/"
        },
        "outputId": "ee518a1b-bc05-4fcc-935a-874f306346fc"
      },
      "id": "0OpWRIULDhmG",
      "execution_count": null,
      "outputs": [
        {
          "output_type": "execute_result",
          "data": {
            "text/plain": [
              "475200"
            ]
          },
          "metadata": {},
          "execution_count": 2
        }
      ]
    },
    {
      "cell_type": "markdown",
      "source": [
        "### 3. Ceate a Python program that uses `reduce()` to find the maximum element in a list of numbers."
      ],
      "metadata": {
        "id": "MZ1a645XczGl"
      },
      "id": "MZ1a645XczGl"
    },
    {
      "cell_type": "code",
      "source": [
        "## create a list:\n",
        "l = [2,5,9,6,7,8,5]\n",
        "\n",
        "# use reduce function to find the maximum element:\n",
        "reduce(max,l)"
      ],
      "metadata": {
        "id": "63MzpXf-Dg43",
        "colab": {
          "base_uri": "https://localhost:8080/"
        },
        "outputId": "2c09c5db-3129-4dc7-c068-d21cc26fc1e5"
      },
      "id": "63MzpXf-Dg43",
      "execution_count": null,
      "outputs": [
        {
          "output_type": "execute_result",
          "data": {
            "text/plain": [
              "9"
            ]
          },
          "metadata": {},
          "execution_count": 20
        }
      ]
    },
    {
      "cell_type": "code",
      "source": [
        "## can also use in this way:\n",
        "reduce(lambda a,b:a if a>b else b,l)"
      ],
      "metadata": {
        "colab": {
          "base_uri": "https://localhost:8080/"
        },
        "id": "Hc-S41P0a63N",
        "outputId": "5a5e02c5-f4be-4a65-ccad-1d084ec0f85b"
      },
      "id": "Hc-S41P0a63N",
      "execution_count": null,
      "outputs": [
        {
          "output_type": "execute_result",
          "data": {
            "text/plain": [
              "9"
            ]
          },
          "metadata": {},
          "execution_count": 21
        }
      ]
    },
    {
      "cell_type": "markdown",
      "source": [
        "### 4. How can you use the `reduce()` function to concatenate a list of strings into a single string?"
      ],
      "metadata": {
        "id": "WHjctm7neRou"
      },
      "id": "WHjctm7neRou"
    },
    {
      "cell_type": "code",
      "source": [
        "## take a list of strings:\n",
        "l = [\"my\",\"name\",\"is\",\"vanshika\",\"jain.\"]\n",
        "\n",
        "## use reduce function to concatenate the strings:\n",
        "reduce(lambda a,b:a+\" \"+b,l)"
      ],
      "metadata": {
        "colab": {
          "base_uri": "https://localhost:8080/",
          "height": 36
        },
        "id": "4gSN26TNa6p8",
        "outputId": "6bbddcf5-b9ba-4580-895f-bf8de00afde8"
      },
      "id": "4gSN26TNa6p8",
      "execution_count": null,
      "outputs": [
        {
          "output_type": "execute_result",
          "data": {
            "text/plain": [
              "'my name is vanshika jain.'"
            ],
            "application/vnd.google.colaboratory.intrinsic+json": {
              "type": "string"
            }
          },
          "metadata": {},
          "execution_count": 30
        }
      ]
    },
    {
      "cell_type": "markdown",
      "source": [
        "### 5. Write a Python program that calculates the factorial of a number using the `reduce()` function"
      ],
      "metadata": {
        "id": "TbmvxPy0fUDt"
      },
      "id": "TbmvxPy0fUDt"
    },
    {
      "cell_type": "code",
      "source": [
        "import functools\n",
        "## define a function to multiply two numbers:\n",
        "def mult(x,y):\n",
        "  return x*y\n",
        "\n",
        "# take number from user:\n",
        "num = int(input(\"enter your number: \"))\n",
        "\n",
        "## create a list of numbers till the taken number:\n",
        "num_lst = list(range(1,num+1))\n",
        "\n",
        "## use reduce to find the factorial:\n",
        "fact = reduce(mult,num_lst)\n",
        "\n",
        "## print the factorial:\n",
        "print(fact)"
      ],
      "metadata": {
        "colab": {
          "base_uri": "https://localhost:8080/"
        },
        "id": "TOXhEzmZfGl-",
        "outputId": "cab2d90f-cee1-4115-8179-cb91ce1aca85"
      },
      "id": "TOXhEzmZfGl-",
      "execution_count": null,
      "outputs": [
        {
          "output_type": "stream",
          "name": "stdout",
          "text": [
            "enter your number: 4\n",
            "24\n"
          ]
        }
      ]
    },
    {
      "cell_type": "markdown",
      "source": [
        "### 6. Create a Python program that uses `reduce()` to find the GCD (Greatest Common Divisor) of a list of numbers."
      ],
      "metadata": {
        "id": "dA6FTWb7geMw"
      },
      "id": "dA6FTWb7geMw"
    },
    {
      "cell_type": "code",
      "source": [
        "import math\n",
        "## define a function to find gcd:\n",
        "def gcd(a,b):\n",
        "  return math.gcd(a,b)\n",
        "\n",
        "## create a list:\n",
        "lst = [24,36,48,60,72]\n",
        "\n",
        "## find the gcd of a list using reduce:\n",
        "reduce(gcd,lst)\n",
        "\n",
        "\n"
      ],
      "metadata": {
        "colab": {
          "base_uri": "https://localhost:8080/"
        },
        "id": "hXpE8KTIfGWw",
        "outputId": "5b2fab84-3228-4c4a-e0e4-49307c274e69"
      },
      "id": "hXpE8KTIfGWw",
      "execution_count": null,
      "outputs": [
        {
          "output_type": "execute_result",
          "data": {
            "text/plain": [
              "12"
            ]
          },
          "metadata": {},
          "execution_count": 47
        }
      ]
    },
    {
      "cell_type": "markdown",
      "source": [
        "### 7.Write a Python program that uses the `reduce()` function to find the sum of the digits of a given number."
      ],
      "metadata": {
        "id": "F42QfOicigdn"
      },
      "id": "F42QfOicigdn"
    },
    {
      "cell_type": "code",
      "source": [
        "import functools\n",
        "\n",
        "## define a function to sum two digits:\n",
        "def sum_digits(x,y):\n",
        "  return int(x) + int(y)\n",
        "# take the input in string datatype so that the function can iterate over it.\n",
        "number = input(\"enter a digit here: \")\n",
        "\n",
        "## use reduce function to find the sum:\n",
        "sum = functools.reduce(sum_digits,number)\n",
        "\n",
        "## print the final sum.\n",
        "print(sum)"
      ],
      "metadata": {
        "colab": {
          "base_uri": "https://localhost:8080/"
        },
        "id": "Nvo2H2j2fFrT",
        "outputId": "5599fd2c-6bdc-4242-e351-1f22888c2549"
      },
      "id": "Nvo2H2j2fFrT",
      "execution_count": null,
      "outputs": [
        {
          "output_type": "stream",
          "name": "stdout",
          "text": [
            "enter a digit here: 4236\n",
            "15\n"
          ]
        }
      ]
    },
    {
      "cell_type": "markdown",
      "source": [
        "##  FILTER:"
      ],
      "metadata": {
        "id": "_fXCWksnr4xK"
      },
      "id": "_fXCWksnr4xK"
    },
    {
      "cell_type": "markdown",
      "source": [
        "### 1. Explain the purpose of the `filter()` function in Python and provide an example of how it can be used to filter elements from an iterable."
      ],
      "metadata": {
        "id": "lujcbsT1r8VS"
      },
      "id": "lujcbsT1r8VS"
    },
    {
      "cell_type": "code",
      "source": [
        "'''The filter() function selects elements from an iterable (list, tuple etc.) based on the output of a function.\n",
        " The function is applied to each element of the iterable and if it returns True , the element is selected by the filter() function.'''\n",
        "\n",
        " ## example : to find the odd numbers from a given list:\n",
        "lst = [1,2,3,4,5]\n",
        "\n",
        "list(filter(lambda a : a%2!=0,lst))\n"
      ],
      "metadata": {
        "colab": {
          "base_uri": "https://localhost:8080/"
        },
        "id": "XeCkKUkArw62",
        "outputId": "5796134e-ca75-453b-ba24-55f9d862edfc"
      },
      "id": "XeCkKUkArw62",
      "execution_count": null,
      "outputs": [
        {
          "output_type": "execute_result",
          "data": {
            "text/plain": [
              "[1, 3, 5]"
            ]
          },
          "metadata": {},
          "execution_count": 57
        }
      ]
    },
    {
      "cell_type": "markdown",
      "source": [
        "### 2. Write a Python program that uses the `filter()` function to select even numbers from a list of integers."
      ],
      "metadata": {
        "id": "h24lOt2KuhQI"
      },
      "id": "h24lOt2KuhQI"
    },
    {
      "cell_type": "code",
      "source": [
        "## define a function:\n",
        "def find_even(x):\n",
        "  return x%2==0\n",
        "\n",
        "## create a list:\n",
        "lst = list(range(1,50))\n",
        "\n",
        "## using filter to find the even numbers:\n",
        "even_lst = list(filter(find_even,lst))\n",
        "\n",
        "## print the list:\n",
        "print(even_lst)"
      ],
      "metadata": {
        "colab": {
          "base_uri": "https://localhost:8080/"
        },
        "id": "uVmQUek2rwrO",
        "outputId": "251e6dc9-fe40-4adc-d6a9-e2ba960b777f"
      },
      "id": "uVmQUek2rwrO",
      "execution_count": null,
      "outputs": [
        {
          "output_type": "stream",
          "name": "stdout",
          "text": [
            "[2, 4, 6, 8, 10, 12, 14, 16, 18, 20, 22, 24, 26, 28, 30, 32, 34, 36, 38, 40, 42, 44, 46, 48]\n"
          ]
        }
      ]
    },
    {
      "cell_type": "markdown",
      "source": [
        "### 3. Create a Python program that uses the `filter()` function to select names that start with a specific letter from a list of strings."
      ],
      "metadata": {
        "id": "E13CB3y9vopq"
      },
      "id": "E13CB3y9vopq"
    },
    {
      "cell_type": "code",
      "source": [
        "## create a list of strings:\n",
        "l = [\"welcome\",\"to\",\"the\",\"jungle\",\"book\"]\n",
        "\n",
        "## use filter :\n",
        "list(filter(lambda a:a[0]=='t',l))"
      ],
      "metadata": {
        "colab": {
          "base_uri": "https://localhost:8080/"
        },
        "id": "ka9p456Rrwa8",
        "outputId": "fa222381-5821-423a-9e68-9bdc10e7e507"
      },
      "id": "ka9p456Rrwa8",
      "execution_count": null,
      "outputs": [
        {
          "output_type": "execute_result",
          "data": {
            "text/plain": [
              "['to', 'the']"
            ]
          },
          "metadata": {},
          "execution_count": 61
        }
      ]
    },
    {
      "cell_type": "markdown",
      "source": [
        "### 4. Write a Python program that uses the `filter()` function to select prime numbers from a list of integers."
      ],
      "metadata": {
        "id": "IuG2ov2Cwm_8"
      },
      "id": "IuG2ov2Cwm_8"
    },
    {
      "cell_type": "code",
      "source": [
        "# Function to check if a number is prime\n",
        "def is_prime(n):\n",
        "    if n <= 1:\n",
        "        return False\n",
        "    if n <= 3:\n",
        "        return True\n",
        "    if n % 2 == 0 or n % 3 == 0:\n",
        "        return False\n",
        "    i = 5\n",
        "    while i * i <= n:\n",
        "        if n % i == 0 or n % (i + 2) == 0:\n",
        "            return False\n",
        "        i += 6\n",
        "    return True\n",
        "\n",
        "# List of integers\n",
        "numbers = [2, 3, 5, 7, 8, 10, 11, 13, 17]\n",
        "\n",
        "# Use filter() to select prime numbers from the list\n",
        "prime_numbers = list(filter(is_prime, numbers))\n",
        "\n",
        "# Print the result\n",
        "print(\"Prime numbers:\", prime_numbers)"
      ],
      "metadata": {
        "colab": {
          "base_uri": "https://localhost:8080/"
        },
        "id": "ih-P2gL8rwMw",
        "outputId": "57d38b5d-a462-4999-a321-3090207e93da"
      },
      "id": "ih-P2gL8rwMw",
      "execution_count": 12,
      "outputs": [
        {
          "output_type": "stream",
          "name": "stdout",
          "text": [
            "Prime numbers: [2, 3, 5, 7, 11, 13, 17]\n"
          ]
        }
      ]
    },
    {
      "cell_type": "markdown",
      "source": [
        "### 5. How can you use the `filter()` function to remove None values from a list in Python?"
      ],
      "metadata": {
        "id": "H0kl2IUqyUcY"
      },
      "id": "H0kl2IUqyUcY"
    },
    {
      "cell_type": "code",
      "source": [
        "## initialize a list with none values in it:\n",
        "l = [5,6,None,8,9,None]\n",
        "\n",
        "## use filter to function to remove none values:\n",
        "modified = list(filter(lambda a: a is not None,l))\n",
        "\n",
        "print(modified)"
      ],
      "metadata": {
        "colab": {
          "base_uri": "https://localhost:8080/"
        },
        "id": "gQVnry2frvn0",
        "outputId": "713a54a7-188e-4326-8a3d-f91244a367b0"
      },
      "id": "gQVnry2frvn0",
      "execution_count": null,
      "outputs": [
        {
          "output_type": "stream",
          "name": "stdout",
          "text": [
            "[5, 6, 8, 9]\n"
          ]
        }
      ]
    },
    {
      "cell_type": "markdown",
      "source": [
        "### 6. Create a Python program that uses `filter()` to select words longer than a certain length from a list of strings."
      ],
      "metadata": {
        "id": "XoD_aiiMzOat"
      },
      "id": "XoD_aiiMzOat"
    },
    {
      "cell_type": "code",
      "source": [
        "## create a list of strings:\n",
        "l = [\"welcome\",\"to\",\"the\",\"jungle\",\"book\"]\n",
        "\n",
        "## using filter:\n",
        "list(filter(lambda a:len(a)>3,l))"
      ],
      "metadata": {
        "colab": {
          "base_uri": "https://localhost:8080/"
        },
        "id": "Dtz1gdj70DIm",
        "outputId": "d6d61d66-e994-4493-de9d-017b1e84156e"
      },
      "id": "Dtz1gdj70DIm",
      "execution_count": null,
      "outputs": [
        {
          "output_type": "execute_result",
          "data": {
            "text/plain": [
              "['welcome', 'jungle', 'book']"
            ]
          },
          "metadata": {},
          "execution_count": 66
        }
      ]
    },
    {
      "cell_type": "markdown",
      "source": [
        "### 7. Write a Python program that uses the `filter()` function to select elements greater than a specified threshold from a list of values.\n"
      ],
      "metadata": {
        "id": "AqcZ8YmM0VLK"
      },
      "id": "AqcZ8YmM0VLK"
    },
    {
      "cell_type": "code",
      "source": [
        "## create a list:\n",
        "l = [58,96,63,52,45,98]\n",
        "\n",
        "## define a variable threshold:\n",
        "threshold = 60\n",
        "\n",
        "## using filter:\n",
        "list(filter(lambda a : a>threshold,l))"
      ],
      "metadata": {
        "colab": {
          "base_uri": "https://localhost:8080/"
        },
        "id": "BNihiV3E0LZX",
        "outputId": "0833aafc-d911-4746-851f-c858724371dc"
      },
      "id": "BNihiV3E0LZX",
      "execution_count": null,
      "outputs": [
        {
          "output_type": "execute_result",
          "data": {
            "text/plain": [
              "[96, 63, 98]"
            ]
          },
          "metadata": {},
          "execution_count": 67
        }
      ]
    },
    {
      "cell_type": "markdown",
      "source": [
        "## RECURSION:"
      ],
      "metadata": {
        "id": "8-fL8mr41EpB"
      },
      "id": "8-fL8mr41EpB"
    },
    {
      "cell_type": "markdown",
      "source": [
        "### 1. Explain the concept of recursion in Python. How does it differ from iteration?"
      ],
      "metadata": {
        "id": "pn2tKNPN11W7"
      },
      "id": "pn2tKNPN11W7"
    },
    {
      "cell_type": "code",
      "source": [
        "'''Recursion is a technique in which the function calls itself in its body to solve the problem,\n",
        " typically breaking into smaller and more manageable sub-problems. In contrast, Iteration is a technique that repetitively\n",
        "  executes a code block until the condition is unmet.\n",
        "\n",
        "  Recursion and iteration are both different ways to execute a set of instructions repeatedly.\n",
        "   The main difference between these two is that in recursion, we use function calls to execute the statements repeatedly\n",
        "   inside the function body, while in iteration, we use loops like “for” and “while” to do the same.'''\n",
        "\n"
      ],
      "metadata": {
        "colab": {
          "base_uri": "https://localhost:8080/",
          "height": 88
        },
        "id": "2RlW-86C0LEF",
        "outputId": "04150e76-d36a-47cc-c882-19c84ee1af1a"
      },
      "id": "2RlW-86C0LEF",
      "execution_count": null,
      "outputs": [
        {
          "output_type": "execute_result",
          "data": {
            "text/plain": [
              "'Recursion is a technique in which the function calls itself in its body to solve the problem,\\n typically breaking into smaller and more manageable sub-problems. In contrast, Iteration is a technique that repetitively\\n  executes a code block until the condition is unmet.\\n\\n  Recursion and iteration are both different ways to execute a set of instructions repeatedly.\\n   The main difference between these two is that in recursion, we use function calls to execute the statements repeatedly \\n   inside the function body, while in iteration, we use loops like “for” and “while” to do the same.'"
            ],
            "application/vnd.google.colaboratory.intrinsic+json": {
              "type": "string"
            }
          },
          "metadata": {},
          "execution_count": 68
        }
      ]
    },
    {
      "cell_type": "markdown",
      "source": [
        "### 2. Write a Python program to calculate the factorial of a number using recursion."
      ],
      "metadata": {
        "id": "yY70egqv2qrJ"
      },
      "id": "yY70egqv2qrJ"
    },
    {
      "cell_type": "code",
      "source": [
        "## define a function to find factorial:\n",
        "def fact_number(n):\n",
        "    if n==0:\n",
        "        return 1\n",
        "    else:\n",
        "        return n*fact_number(n-1) # function inside the same function = recursion\n",
        "\n",
        "## call the function:\n",
        "fact_number(4)\n"
      ],
      "metadata": {
        "colab": {
          "base_uri": "https://localhost:8080/"
        },
        "id": "Ra9VU15o0KtM",
        "outputId": "c0c7cf53-d858-4436-85d5-42c04b0f72f3"
      },
      "id": "Ra9VU15o0KtM",
      "execution_count": 13,
      "outputs": [
        {
          "output_type": "execute_result",
          "data": {
            "text/plain": [
              "24"
            ]
          },
          "metadata": {},
          "execution_count": 13
        }
      ]
    },
    {
      "cell_type": "markdown",
      "source": [
        "### 3. Create a recursive Python function to find the nth Fibonacci number."
      ],
      "metadata": {
        "id": "7bebmVEK-poB"
      },
      "id": "7bebmVEK-poB"
    },
    {
      "cell_type": "code",
      "source": [
        "def fib(n):\n",
        "  if n<=1:\n",
        "    return n\n",
        "  else:\n",
        "    return fib(n-2) + fib(n-1)\n",
        "\n",
        "## function call:\n",
        "fib(9)"
      ],
      "metadata": {
        "colab": {
          "base_uri": "https://localhost:8080/"
        },
        "id": "nkTj5yHX0KfQ",
        "outputId": "2b82f820-1482-475d-e69e-ae9f929a0822"
      },
      "id": "nkTj5yHX0KfQ",
      "execution_count": null,
      "outputs": [
        {
          "output_type": "execute_result",
          "data": {
            "text/plain": [
              "34"
            ]
          },
          "metadata": {},
          "execution_count": 9
        }
      ]
    },
    {
      "cell_type": "markdown",
      "source": [
        "### 4. Write a recursive Python function to calculate the sum of all elements in a list."
      ],
      "metadata": {
        "id": "VaATz8co8yAO"
      },
      "id": "VaATz8co8yAO"
    },
    {
      "cell_type": "code",
      "source": [
        "## define a function to sum all the elemnts of a list:\n",
        "def sum_lst(l):\n",
        "  if len(l)== 0:\n",
        "    return 0\n",
        "  else:\n",
        "    return l[0] + sum_lst(l[1:])\n",
        "\n",
        "## call the function:\n",
        "sum_lst([1,2,3,4,5])"
      ],
      "metadata": {
        "id": "9IxwfDTT0KSF",
        "colab": {
          "base_uri": "https://localhost:8080/"
        },
        "outputId": "f1e2642c-89c7-4bb5-a0d8-f7c0f973fa16"
      },
      "id": "9IxwfDTT0KSF",
      "execution_count": null,
      "outputs": [
        {
          "output_type": "execute_result",
          "data": {
            "text/plain": [
              "15"
            ]
          },
          "metadata": {},
          "execution_count": 7
        }
      ]
    },
    {
      "cell_type": "markdown",
      "source": [
        "### 5. How can you prevent a recursive function from running indefinitely, causing a stack overflow error?"
      ],
      "metadata": {
        "id": "hPM7LMcuKnwQ"
      },
      "id": "hPM7LMcuKnwQ"
    },
    {
      "cell_type": "code",
      "source": [
        "'''In order to prevent stack overflow bugs, you must have a base case\n",
        " where the function stops make new recursive calls.\n",
        "If there is no base case then the function calls will never stop and\n",
        " eventually a stack overflow will occur. '''"
      ],
      "metadata": {
        "colab": {
          "base_uri": "https://localhost:8080/",
          "height": 53
        },
        "id": "8YekO5g9Kk8V",
        "outputId": "4888b752-b2cd-4418-ed35-4831ca7e63f9"
      },
      "id": "8YekO5g9Kk8V",
      "execution_count": 15,
      "outputs": [
        {
          "output_type": "execute_result",
          "data": {
            "text/plain": [
              "'In order to prevent stack overflow bugs, you must have a base case\\n where the function stops make new recursive calls. \\nIf there is no base case then the function calls will never stop and\\n eventually a stack overflow will occur. '"
            ],
            "application/vnd.google.colaboratory.intrinsic+json": {
              "type": "string"
            }
          },
          "metadata": {},
          "execution_count": 15
        }
      ]
    },
    {
      "cell_type": "markdown",
      "source": [
        "### 6. Create a recursive Python function to find the greatest common divisor (GCD) of two numbers using the Euclidean algorithm."
      ],
      "metadata": {
        "id": "fY8o6l3wLBoB"
      },
      "id": "fY8o6l3wLBoB"
    },
    {
      "cell_type": "code",
      "source": [
        "# Recursive function to find the GCD of two numbers using the Euclidean algorithm\n",
        "def gcd(a, b):\n",
        "    if b == 0:\n",
        "        return a\n",
        "    else:\n",
        "        return gcd(b, a % b)\n",
        "\n",
        "# Input: Get two numbers from the user\n",
        "num1 = int(input(\"Enter the first number: \"))\n",
        "num2 = int(input(\"Enter the second number: \"))\n",
        "\n",
        "# Calculate the GCD using the recursive function\n",
        "result = gcd(num1, num2)\n",
        "\n",
        "# Print the result\n",
        "print(f\"The GCD of {num1} and {num2} is {result}\")"
      ],
      "metadata": {
        "colab": {
          "base_uri": "https://localhost:8080/"
        },
        "id": "wOGnXx0yKkxZ",
        "outputId": "e7898237-4594-4fc8-8344-8c50f6769103"
      },
      "id": "wOGnXx0yKkxZ",
      "execution_count": 16,
      "outputs": [
        {
          "output_type": "stream",
          "name": "stdout",
          "text": [
            "Enter the first number: 5\n",
            "Enter the second number: 30\n",
            "The GCD of 5 and 30 is 5\n"
          ]
        }
      ]
    },
    {
      "cell_type": "markdown",
      "source": [
        "### 7.Write a recursive Python function to reverse a string."
      ],
      "metadata": {
        "id": "oHXqhAF8LT3f"
      },
      "id": "oHXqhAF8LT3f"
    },
    {
      "cell_type": "code",
      "source": [
        "## reverse a string using recursion:\n",
        "\n",
        "def rev_str(s):\n",
        "  if s == \"\":\n",
        "    return \"\"\n",
        "  else:\n",
        "    return rev_str(s[1:]) + s[0]\n",
        "\n",
        "## call function:\n",
        "rev_str(\"sudh\")\n"
      ],
      "metadata": {
        "colab": {
          "base_uri": "https://localhost:8080/",
          "height": 36
        },
        "id": "oBQBPdpCj94P",
        "outputId": "970c6a94-a503-48a0-f6da-221d5f32baa3"
      },
      "id": "oBQBPdpCj94P",
      "execution_count": null,
      "outputs": [
        {
          "output_type": "execute_result",
          "data": {
            "text/plain": [
              "'hdus'"
            ],
            "application/vnd.google.colaboratory.intrinsic+json": {
              "type": "string"
            }
          },
          "metadata": {},
          "execution_count": 10
        }
      ]
    },
    {
      "cell_type": "markdown",
      "source": [
        "### 8. Create a recursive Python function to calculate the power of a number (x^n)."
      ],
      "metadata": {
        "id": "K9C0M7bwLbwz"
      },
      "id": "K9C0M7bwLbwz"
    },
    {
      "cell_type": "code",
      "source": [
        "## use recursion to calculate power:\n",
        "\n",
        "def power_num(n,k):\n",
        "  if k == 0:\n",
        "    return 1\n",
        "  else:\n",
        "    return n*power_num(n,k-1)\n",
        "\n",
        "## call function:\n",
        "power_num(3,4)"
      ],
      "metadata": {
        "colab": {
          "base_uri": "https://localhost:8080/"
        },
        "id": "SXYZEFzYj9sN",
        "outputId": "7394dd4c-7124-4de2-b1b0-24b8fc33c688"
      },
      "id": "SXYZEFzYj9sN",
      "execution_count": null,
      "outputs": [
        {
          "output_type": "execute_result",
          "data": {
            "text/plain": [
              "81"
            ]
          },
          "metadata": {},
          "execution_count": 11
        }
      ]
    },
    {
      "cell_type": "markdown",
      "source": [
        "### 9. Write a recursive Python function to find all permutations of a given string."
      ],
      "metadata": {
        "id": "rAGEwMEALmrW"
      },
      "id": "rAGEwMEALmrW"
    },
    {
      "cell_type": "code",
      "source": [
        "# Recursive function to find all permutations of a string\n",
        "def get_permutations(input_str):\n",
        "    # Base case: If the string is empty or has only one character, return the string itself as the only permutation\n",
        "    if len(input_str) <= 1:\n",
        "        return [input_str]\n",
        "\n",
        "    # List to store permutations\n",
        "    permutations = []\n",
        "\n",
        "    for char in input_str:\n",
        "        # Remove the current character from the string\n",
        "        remaining_chars = input_str.replace(char, \"\", 1)\n",
        "\n",
        "        # Recursively find permutations of the remaining characters\n",
        "        sub_permutations = get_permutations(remaining_chars)\n",
        "\n",
        "        # Add the current character to the beginning of each sub-permutation\n",
        "        for sub_permutation in sub_permutations:\n",
        "            permutations.append(char + sub_permutation)\n",
        "\n",
        "    return permutations\n",
        "\n",
        "# Input: Get a string from the user\n",
        "input_string = input(\"Enter a string: \")\n",
        "\n",
        "# Get all permutations using the recursive function\n",
        "result = get_permutations(input_string)\n",
        "\n",
        "# Print the permutations\n",
        "print(\"All permutations of the string:\")\n",
        "for perm in result:\n",
        "    print(perm)"
      ],
      "metadata": {
        "colab": {
          "base_uri": "https://localhost:8080/"
        },
        "id": "y4YpAQQWLjJr",
        "outputId": "6c9a58af-eb2a-4deb-f1f6-7d15edb2bc41"
      },
      "id": "y4YpAQQWLjJr",
      "execution_count": 18,
      "outputs": [
        {
          "output_type": "stream",
          "name": "stdout",
          "text": [
            "Enter a string: van\n",
            "All permutations of the string:\n",
            "van\n",
            "vna\n",
            "avn\n",
            "anv\n",
            "nva\n",
            "nav\n"
          ]
        }
      ]
    },
    {
      "cell_type": "markdown",
      "source": [
        "### 10. )Write a recursive Python function to check if a string is a palindrome."
      ],
      "metadata": {
        "id": "BgvhnR6mMpA7"
      },
      "id": "BgvhnR6mMpA7"
    },
    {
      "cell_type": "code",
      "source": [
        "# Recursive function to check if a string is a palindrome\n",
        "def is_palindrome(input_str):\n",
        "    # Base case: If the string is empty or has only one character, it's a palindrome\n",
        "    if len(input_str) <= 1:\n",
        "        return True\n",
        "\n",
        "    # Check if the first and last characters are the same\n",
        "    if input_str[0] != input_str[-1]:\n",
        "        return False\n",
        "\n",
        "    # Recursively check if the substring without the first and last characters is a palindrome\n",
        "    return is_palindrome(input_str[1:-1])\n",
        "\n",
        "# Input: Get a string from the user\n",
        "input_string = input(\"Enter a string: \")\n",
        "\n",
        "# Check if the string is a palindrome using the recursive function\n",
        "if is_palindrome(input_string):\n",
        "    print(f\"'{input_string}' is a palindrome.\")\n",
        "else:\n",
        "    print(f\"'{input_string}' is not a palindrome.\")"
      ],
      "metadata": {
        "colab": {
          "base_uri": "https://localhost:8080/"
        },
        "id": "HdWCHWbVLjA5",
        "outputId": "67620592-865f-4678-917f-17d0ecb58182"
      },
      "id": "HdWCHWbVLjA5",
      "execution_count": 19,
      "outputs": [
        {
          "output_type": "stream",
          "name": "stdout",
          "text": [
            "Enter a string: naman\n",
            "'naman' is a palindrome.\n"
          ]
        }
      ]
    },
    {
      "cell_type": "markdown",
      "source": [
        "### 11. )Create a recursive Python function to generate all possible combinations of a list of elements."
      ],
      "metadata": {
        "id": "-cV-RPWAM4f8"
      },
      "id": "-cV-RPWAM4f8"
    },
    {
      "cell_type": "code",
      "source": [
        "def generate_combinations(arr):\n",
        "    def dfs(index, current_combination):\n",
        "        if index == len(arr):\n",
        "            combinations.append(current_combination[:])\n",
        "            return\n",
        "\n",
        "        # Include the current element in the combination\n",
        "        current_combination.append(arr[index])\n",
        "        dfs(index + 1, current_combination)\n",
        "\n",
        "        # Exclude the current element from the combination\n",
        "        current_combination.pop()\n",
        "        dfs(index + 1, current_combination)\n",
        "\n",
        "    combinations = []\n",
        "    dfs(0, [])\n",
        "    return combinations\n",
        "\n",
        "# Example usage:\n",
        "elements = [1, 2, 3]\n",
        "combinations = generate_combinations(elements)\n",
        "for combo in combinations:\n",
        "    print(combo)"
      ],
      "metadata": {
        "colab": {
          "base_uri": "https://localhost:8080/"
        },
        "id": "JmqYCtcFLiSK",
        "outputId": "e97e5ddb-c069-402d-df61-abbb5b308efb"
      },
      "id": "JmqYCtcFLiSK",
      "execution_count": 20,
      "outputs": [
        {
          "output_type": "stream",
          "name": "stdout",
          "text": [
            "[1, 2, 3]\n",
            "[1, 2]\n",
            "[1, 3]\n",
            "[1]\n",
            "[2, 3]\n",
            "[2]\n",
            "[3]\n",
            "[]\n"
          ]
        }
      ]
    },
    {
      "cell_type": "markdown",
      "source": [
        "## BASICS OF FUNCTIONS:"
      ],
      "metadata": {
        "id": "fGrEcjxWbm4_"
      },
      "id": "fGrEcjxWbm4_"
    },
    {
      "cell_type": "markdown",
      "source": [
        "### 1. What is a function in Python, and why is it used?\n"
      ],
      "metadata": {
        "id": "j8gbXj9pbxEo"
      },
      "id": "j8gbXj9pbxEo"
    },
    {
      "cell_type": "code",
      "source": [
        "'''Python Functions is a block of statements that return the specific task.\n",
        "The idea is to put some commonly or repeatedly done tasks together and\n",
        "make a function so that instead of writing the same code again and again\n",
        "for different inputs, we can do the function calls to reuse code contained\n",
        "in it over and over again.\n",
        "\n",
        "Some Benefits of Using Functions\n",
        "\n",
        "Increase Code Readability\n",
        "Increase Code Reusability'''\n",
        "\n"
      ],
      "metadata": {
        "colab": {
          "base_uri": "https://localhost:8080/",
          "height": 122
        },
        "id": "_7V5e2mybjwv",
        "outputId": "6ba7433f-ed34-4266-e553-9bb3504c108e"
      },
      "id": "_7V5e2mybjwv",
      "execution_count": null,
      "outputs": [
        {
          "output_type": "execute_result",
          "data": {
            "text/plain": [
              "'Python Functions is a block of statements that return the specific task. \\nThe idea is to put some commonly or repeatedly done tasks together and\\nmake a function so that instead of writing the same code again and again\\nfor different inputs, we can do the function calls to reuse code contained \\nin it over and over again.\\n\\nSome Benefits of Using Functions\\n\\nIncrease Code Readability \\nIncrease Code Reusability'"
            ],
            "application/vnd.google.colaboratory.intrinsic+json": {
              "type": "string"
            }
          },
          "metadata": {},
          "execution_count": 17
        }
      ]
    },
    {
      "cell_type": "markdown",
      "source": [
        "### 2. How do you define a function in Python? Provide an example."
      ],
      "metadata": {
        "id": "XNWvTM8FcwGy"
      },
      "id": "XNWvTM8FcwGy"
    },
    {
      "cell_type": "code",
      "source": [
        "## To define a finction in python we have to follw the following steps:\n",
        "\n",
        "## define a function using a 'def' keyword and then we can write the\n",
        "#function name and put arguments in it if required.\n",
        "\n",
        "## for example: create a function to sum two numbers:\n",
        "\n",
        "def add(a,b):\n",
        "  return a+b\n",
        "\n",
        "## now call the function:\n",
        "\n",
        "add(2,6)"
      ],
      "metadata": {
        "colab": {
          "base_uri": "https://localhost:8080/"
        },
        "id": "KzqTCEjsbjgq",
        "outputId": "e25e4648-cca8-4162-c244-f4c07ce72a34"
      },
      "id": "KzqTCEjsbjgq",
      "execution_count": null,
      "outputs": [
        {
          "output_type": "execute_result",
          "data": {
            "text/plain": [
              "8"
            ]
          },
          "metadata": {},
          "execution_count": 18
        }
      ]
    },
    {
      "cell_type": "markdown",
      "source": [
        "### 3. Explain the difference between a function definition and a function call.\n"
      ],
      "metadata": {
        "id": "KYrJfWF1dtPz"
      },
      "id": "KYrJfWF1dtPz"
    },
    {
      "cell_type": "code",
      "source": [
        "'''A  function is a piece of code which enhanced the reusability and\n",
        "modularity of your program. It means that piece of code need not be written again\n",
        ". A function call means invoking or calling that function. Unless a function is\n",
        " called there is no use of that function.'''"
      ],
      "metadata": {
        "colab": {
          "base_uri": "https://localhost:8080/",
          "height": 88
        },
        "id": "LE1zavfnbjQh",
        "outputId": "b252dc0b-b141-4474-c0b9-3a85636fa178"
      },
      "id": "LE1zavfnbjQh",
      "execution_count": null,
      "outputs": [
        {
          "output_type": "execute_result",
          "data": {
            "text/plain": [
              "'A  function is a piece of code which enhanced the reusability and \\nmodularity of your program. It means that piece of code need not be written again\\n. A function call means invoking or calling that function. Unless a function is\\n called there is no use of that function.'"
            ],
            "application/vnd.google.colaboratory.intrinsic+json": {
              "type": "string"
            }
          },
          "metadata": {},
          "execution_count": 19
        }
      ]
    },
    {
      "cell_type": "markdown",
      "source": [
        "### 4. Write a Python program that defines a function to calculate the sum of two numbers and then calls the function.\n"
      ],
      "metadata": {
        "id": "hD0fKZRpep-7"
      },
      "id": "hD0fKZRpep-7"
    },
    {
      "cell_type": "code",
      "source": [
        "## for example: create a function to sum two numbers:\n",
        "\n",
        "def add(a,b):\n",
        "  return a+b\n",
        "\n",
        "## now call the function:\n",
        "\n",
        "add(2,6)"
      ],
      "metadata": {
        "id": "G9MZoNot0BIB",
        "colab": {
          "base_uri": "https://localhost:8080/"
        },
        "outputId": "1d0ff55e-0524-4c48-bd02-3df23ccd27c3"
      },
      "id": "G9MZoNot0BIB",
      "execution_count": null,
      "outputs": [
        {
          "output_type": "execute_result",
          "data": {
            "text/plain": [
              "8"
            ]
          },
          "metadata": {},
          "execution_count": 20
        }
      ]
    },
    {
      "cell_type": "markdown",
      "source": [
        "### 5. What is a function signature, and what information does it typically include?\n"
      ],
      "metadata": {
        "id": "86bBV7wje9tA"
      },
      "id": "86bBV7wje9tA"
    },
    {
      "cell_type": "code",
      "source": [
        "'''The signature of a function tells you what are the types of inputs required by your function along with annotations,\n",
        " and also the type of information that the function returns. The signature() function in Python, is used to find the signature of a function. '''"
      ],
      "metadata": {
        "id": "r6IrzgjNe338",
        "colab": {
          "base_uri": "https://localhost:8080/",
          "height": 53
        },
        "outputId": "8a983a21-de7e-4437-b5bd-c1c3640abae7"
      },
      "id": "r6IrzgjNe338",
      "execution_count": 21,
      "outputs": [
        {
          "output_type": "execute_result",
          "data": {
            "text/plain": [
              "'The signature of a function tells you what are the types of inputs required by your function along with annotations,\\n and also the type of information that the function returns. The signature() function in Python, is used to find the signature of a function. '"
            ],
            "application/vnd.google.colaboratory.intrinsic+json": {
              "type": "string"
            }
          },
          "metadata": {},
          "execution_count": 21
        }
      ]
    },
    {
      "cell_type": "markdown",
      "source": [
        "### 6. Create a Python function that takes two arguments and returns their product.\n"
      ],
      "metadata": {
        "id": "lFyXAfiHgBFb"
      },
      "id": "lFyXAfiHgBFb"
    },
    {
      "cell_type": "code",
      "source": [
        "## define a function to find the product:\n",
        "def mult(a,b):\n",
        "  return a*b\n",
        "\n",
        "## call the function :\n",
        "mult(2,3)"
      ],
      "metadata": {
        "colab": {
          "base_uri": "https://localhost:8080/"
        },
        "id": "7EDC6D66e3dc",
        "outputId": "91a59d2b-8df7-4c5b-d0ee-31506feb8f62"
      },
      "id": "7EDC6D66e3dc",
      "execution_count": null,
      "outputs": [
        {
          "output_type": "execute_result",
          "data": {
            "text/plain": [
              "6"
            ]
          },
          "metadata": {},
          "execution_count": 21
        }
      ]
    },
    {
      "cell_type": "markdown",
      "source": [],
      "metadata": {
        "id": "cC7mExviNtMS"
      },
      "id": "cC7mExviNtMS"
    },
    {
      "cell_type": "markdown",
      "source": [
        "# Function Parameters and Arguments:\n"
      ],
      "metadata": {
        "id": "Veupxz9zNtQB"
      },
      "id": "Veupxz9zNtQB"
    },
    {
      "cell_type": "markdown",
      "source": [],
      "metadata": {
        "id": "5vRs_gLLNy8x"
      },
      "id": "5vRs_gLLNy8x"
    },
    {
      "cell_type": "markdown",
      "source": [
        "### 1. Explain the concepts of formal parameters and actual arguments in Python functions."
      ],
      "metadata": {
        "id": "Qh8cnxFfNzAJ"
      },
      "id": "Qh8cnxFfNzAJ"
    },
    {
      "cell_type": "code",
      "source": [
        "'''The major difference between actual and formal parameters is that formal parameters are\n",
        " declared on calling the function and the actual parameter is declared on invoking. The actual parameters can carry\n",
        " constant values whereas formal parameters carry variables\n",
        "\n",
        " Actual Parameters\n",
        "When a function is called, the values (expressions) that are passed in the function call are called the arguments or actual parameters.\n",
        "\n",
        "formal:\n",
        "The parameter used in function definition statement which contain data type on its time of declaration is called formal parameter.'''\n"
      ],
      "metadata": {
        "id": "qWeE2a77e2-m",
        "colab": {
          "base_uri": "https://localhost:8080/",
          "height": 88
        },
        "outputId": "063eefe7-b19a-48ad-d7b1-ca048a18f929"
      },
      "id": "qWeE2a77e2-m",
      "execution_count": 22,
      "outputs": [
        {
          "output_type": "execute_result",
          "data": {
            "text/plain": [
              "'The major difference between actual and formal parameters is that formal parameters are\\n declared on calling the function and the actual parameter is declared on invoking. The actual parameters can carry \\n constant values whereas formal parameters carry variables\\n\\n Actual Parameters\\t\\nWhen a function is called, the values (expressions) that are passed in the function call are called the arguments or actual parameters.\\n\\nformal:\\nThe parameter used in function definition statement which contain data type on its time of declaration is called formal parameter.'"
            ],
            "application/vnd.google.colaboratory.intrinsic+json": {
              "type": "string"
            }
          },
          "metadata": {},
          "execution_count": 22
        }
      ]
    },
    {
      "cell_type": "markdown",
      "source": [
        "### 2. Write a Python program that defines a function with default argument values."
      ],
      "metadata": {
        "id": "dRlDcUO0Pk1S"
      },
      "id": "dRlDcUO0Pk1S"
    },
    {
      "cell_type": "code",
      "source": [
        "def welcome(name,greet=\"welcome\"): ## here greet is a default argument.\n",
        "  return greet,name\n",
        "\n",
        "## call the function: with single argument.\n",
        "sin = welcome(\"vanshika\")\n",
        "print(sin)\n",
        "## call the function with two arguments i.e we can also chance the argument:\n",
        "doub = welcome(\"vanshika\",\"namaste\")\n",
        "print(doub)"
      ],
      "metadata": {
        "colab": {
          "base_uri": "https://localhost:8080/"
        },
        "id": "P2glr48APSSm",
        "outputId": "7e445e4b-bffe-44b7-c3fb-32cf4c79f72d"
      },
      "id": "P2glr48APSSm",
      "execution_count": 26,
      "outputs": [
        {
          "output_type": "stream",
          "name": "stdout",
          "text": [
            "('welcome', 'vanshika')\n",
            "('namaste', 'vanshika')\n"
          ]
        }
      ]
    },
    {
      "cell_type": "markdown",
      "source": [
        "### 3. How do you use keyword arguments in Python function calls? Provide an example.\n"
      ],
      "metadata": {
        "id": "nbS2bcLuQ6jG"
      },
      "id": "nbS2bcLuQ6jG"
    },
    {
      "cell_type": "code",
      "source": [
        "'''whenever we pass the arguments(or value) by their parameter names at the time of calling the function in Python in\n",
        " which if you change the position of arguments then there will be no change in the output.'''\n",
        "\n",
        " ## for example:\n",
        "def print_person_info(name, age, city):\n",
        "  print(f\"Name: {name}\")\n",
        "  print(f\"Age: {age}\")\n",
        "  print(f\"City: {city}\")\n",
        "\n",
        "# Using keyword arguments to call the function\n",
        "print_person_info(name=\"Alice\", age=30, city=\"New York\")"
      ],
      "metadata": {
        "colab": {
          "base_uri": "https://localhost:8080/"
        },
        "id": "prOyAlgkPSFq",
        "outputId": "0903f9ef-045c-4b4a-ac69-4c2bf717181d"
      },
      "id": "prOyAlgkPSFq",
      "execution_count": 28,
      "outputs": [
        {
          "output_type": "stream",
          "name": "stdout",
          "text": [
            "Name: Alice\n",
            "Age: 30\n",
            "City: New York\n"
          ]
        }
      ]
    },
    {
      "cell_type": "markdown",
      "source": [
        "### 4. )Create a Python function that accepts a variable number of arguments and calculates their sum."
      ],
      "metadata": {
        "id": "uKkQ7DbdR4BF"
      },
      "id": "uKkQ7DbdR4BF"
    },
    {
      "cell_type": "code",
      "source": [
        "def calculate_sum(*args):\n",
        "    total = 0\n",
        "    for num in args:\n",
        "        total += num\n",
        "    return total\n",
        "\n",
        "# Example usage:\n",
        "result1 = calculate_sum(1, 2, 3)\n",
        "result2 = calculate_sum(10, 20, 30, 40, 50)\n",
        "\n",
        "print(result1)  # Output: 6\n",
        "print(result2)  # Output: 150"
      ],
      "metadata": {
        "colab": {
          "base_uri": "https://localhost:8080/"
        },
        "id": "MRoUe6HUPR6h",
        "outputId": "a7bf279d-4f7b-424c-cee2-20e83228be5b"
      },
      "id": "MRoUe6HUPR6h",
      "execution_count": 29,
      "outputs": [
        {
          "output_type": "stream",
          "name": "stdout",
          "text": [
            "6\n",
            "150\n"
          ]
        }
      ]
    },
    {
      "cell_type": "markdown",
      "source": [
        "### 5. What is the purpose of the *args and **kwargs syntax in function parameter lists?"
      ],
      "metadata": {
        "id": "VvKE8GXdR2AR"
      },
      "id": "VvKE8GXdR2AR"
    },
    {
      "cell_type": "code",
      "source": [
        "'''*args passes variable number of non-keyworded arguments and on which operation of the tuple can be performed.\n",
        " **kwargs passes variable number of keyword arguments dictionary to function on which operation of a dictionary can be performed.'''\n",
        "\n",
        "def calculate_sum(*args):\n",
        "    total = 0\n",
        "    for num in args:\n",
        "        total += num\n",
        "    return total\n",
        "def print_info(**kwargs):\n",
        "    for key, value in kwargs.items():\n",
        "        print(f\"{key}: {value}\")"
      ],
      "metadata": {
        "id": "1TnnkcICPRq6"
      },
      "id": "1TnnkcICPRq6",
      "execution_count": 30,
      "outputs": []
    },
    {
      "cell_type": "markdown",
      "source": [
        "# Return Values and Scoping"
      ],
      "metadata": {
        "id": "cCyuf7YETFVy"
      },
      "id": "cCyuf7YETFVy"
    },
    {
      "cell_type": "markdown",
      "source": [
        "### 1. Describe the role of the return statement in Python functions and provide examples."
      ],
      "metadata": {
        "id": "GX64Ne4STNwO"
      },
      "id": "GX64Ne4STNwO"
    },
    {
      "cell_type": "code",
      "source": [
        "''' Return is used to print the result obtained from the provided operation.\n",
        "it returns the data in the same datatype without converting it.'''\n",
        "\n",
        "## for example:\n",
        "def add(a,b):\n",
        "  return a+b ## returns the result.\n",
        "\n",
        "## call function:\n",
        "add(3,4)"
      ],
      "metadata": {
        "colab": {
          "base_uri": "https://localhost:8080/"
        },
        "id": "Cb2eAbgOPP_Q",
        "outputId": "90bb90d8-aff7-4a72-f782-42c564aef0ad"
      },
      "id": "Cb2eAbgOPP_Q",
      "execution_count": 31,
      "outputs": [
        {
          "output_type": "execute_result",
          "data": {
            "text/plain": [
              "7"
            ]
          },
          "metadata": {},
          "execution_count": 31
        }
      ]
    },
    {
      "cell_type": "markdown",
      "source": [
        "### 2. Explain the concept of variable scope in Python, including local and global variables."
      ],
      "metadata": {
        "id": "Zj98lbQsT8fP"
      },
      "id": "Zj98lbQsT8fP"
    },
    {
      "cell_type": "code",
      "source": [
        "''' A  variable is only available from inside the region it is created. This is called scope.\n",
        "\n",
        "Python Global variables are those which are not defined inside any function\n",
        " and have a global scope whereas Python local variables are those which are\n",
        "  defined inside a function and their scope is limited to that function only.'''\n",
        "\n",
        "## for exampl:\n",
        "def test():\n",
        "  k = 5 ## these k and l are local variables .\n",
        "  l = 6 ## we cant call them outside the function.\n",
        "  return a+b\n",
        "\n",
        "test()\n"
      ],
      "metadata": {
        "id": "P6UOT0g6e2Pj",
        "colab": {
          "base_uri": "https://localhost:8080/"
        },
        "outputId": "f5deecef-a6e1-475a-83a4-fe89e751847e"
      },
      "id": "P6UOT0g6e2Pj",
      "execution_count": 35,
      "outputs": [
        {
          "output_type": "execute_result",
          "data": {
            "text/plain": [
              "11"
            ]
          },
          "metadata": {},
          "execution_count": 35
        }
      ]
    },
    {
      "cell_type": "code",
      "source": [
        "l    ## it is giving error ,we cant call it outside the function."
      ],
      "metadata": {
        "id": "1kJ7iMds0Alh",
        "colab": {
          "base_uri": "https://localhost:8080/",
          "height": 175
        },
        "outputId": "7fabe2c9-81ac-43ea-f6c0-49fbb4c5c966"
      },
      "id": "1kJ7iMds0Alh",
      "execution_count": 37,
      "outputs": [
        {
          "output_type": "error",
          "ename": "NameError",
          "evalue": "ignored",
          "traceback": [
            "\u001b[0;31m---------------------------------------------------------------------------\u001b[0m",
            "\u001b[0;31mNameError\u001b[0m                                 Traceback (most recent call last)",
            "\u001b[0;32m<ipython-input-37-cde25b5e10ad>\u001b[0m in \u001b[0;36m<cell line: 1>\u001b[0;34m()\u001b[0m\n\u001b[0;32m----> 1\u001b[0;31m \u001b[0ml\u001b[0m\u001b[0;34m\u001b[0m\u001b[0;34m\u001b[0m\u001b[0m\n\u001b[0m",
            "\u001b[0;31mNameError\u001b[0m: name 'l' is not defined"
          ]
        }
      ]
    },
    {
      "cell_type": "code",
      "source": [
        "\n",
        "## example for global variable:\n",
        "\n",
        "l = 20 # global\n",
        "\n",
        "def test1():\n",
        "  return l\n",
        "\n",
        "## call function:\n",
        "test1()"
      ],
      "metadata": {
        "colab": {
          "base_uri": "https://localhost:8080/"
        },
        "id": "sKzrCDnqVmEW",
        "outputId": "9065fae7-e76f-4b88-8b2a-c2a3110cdb2c"
      },
      "id": "sKzrCDnqVmEW",
      "execution_count": 38,
      "outputs": [
        {
          "output_type": "execute_result",
          "data": {
            "text/plain": [
              "20"
            ]
          },
          "metadata": {},
          "execution_count": 38
        }
      ]
    },
    {
      "cell_type": "code",
      "source": [
        "l  ## it is global variable because we can call it outside the function."
      ],
      "metadata": {
        "colab": {
          "base_uri": "https://localhost:8080/"
        },
        "id": "voEztIA1Vl6u",
        "outputId": "4afeba5d-e59a-4e43-9f41-2e59d191128b"
      },
      "id": "voEztIA1Vl6u",
      "execution_count": 39,
      "outputs": [
        {
          "output_type": "execute_result",
          "data": {
            "text/plain": [
              "20"
            ]
          },
          "metadata": {},
          "execution_count": 39
        }
      ]
    },
    {
      "cell_type": "markdown",
      "source": [
        "### 3. Write a Python program that demonstrates the use of global variables within functions."
      ],
      "metadata": {
        "id": "qKsROtJFWRii"
      },
      "id": "qKsROtJFWRii"
    },
    {
      "cell_type": "code",
      "source": [
        "# Define a global variable\n",
        "global_var = 20\n",
        "\n",
        "# Function to modify the global variable\n",
        "def modify_global_variable():\n",
        "    global global_var  # Use the 'global' keyword to indicate we're referring to the global variable\n",
        "    global_var += 5\n",
        "\n",
        "# Function to access the global variable without modification\n",
        "def access_global_variable():\n",
        "    print(\"Accessing global_var:\", global_var)\n",
        "\n",
        "# Display the initial value of the global variable\n",
        "print(\"Initial global_var value:\", global_var)\n",
        "\n",
        "# Call the function to modify the global variable\n",
        "modify_global_variable()\n",
        "\n",
        "# Display the modified value of the global variable\n",
        "print(\"Modified global_var value:\", global_var)\n",
        "\n",
        "# Call the function to access the global variable without modification\n",
        "access_global_variable()"
      ],
      "metadata": {
        "colab": {
          "base_uri": "https://localhost:8080/"
        },
        "id": "I__mj7ekVlUW",
        "outputId": "3c5e9d39-08ce-4e93-e115-05d0d2b39a57"
      },
      "id": "I__mj7ekVlUW",
      "execution_count": 40,
      "outputs": [
        {
          "output_type": "stream",
          "name": "stdout",
          "text": [
            "Initial global_var value: 20\n",
            "Modified global_var value: 25\n",
            "Accessing global_var: 25\n"
          ]
        }
      ]
    },
    {
      "cell_type": "markdown",
      "source": [
        "### 4. Create a Python function that calculates the factorial of a number and returns it."
      ],
      "metadata": {
        "id": "n7i3N0NQWmR8"
      },
      "id": "n7i3N0NQWmR8"
    },
    {
      "cell_type": "code",
      "source": [
        "def factorial(n):\n",
        "    if n == 0:\n",
        "        return 1  # Base case: factorial of 0 is 1\n",
        "    else:\n",
        "        return n * factorial(n - 1)\n",
        "\n",
        "# Example usage:\n",
        "number = 5\n",
        "result = factorial(number)\n",
        "print(f\"The factorial of {number} is {result}\")"
      ],
      "metadata": {
        "colab": {
          "base_uri": "https://localhost:8080/"
        },
        "id": "iJnKB3bFWlgt",
        "outputId": "566ee279-303f-455b-ada3-d4d9a0e161b3"
      },
      "id": "iJnKB3bFWlgt",
      "execution_count": 41,
      "outputs": [
        {
          "output_type": "stream",
          "name": "stdout",
          "text": [
            "The factorial of 5 is 120\n"
          ]
        }
      ]
    },
    {
      "cell_type": "markdown",
      "source": [
        "### 5. How can you access variables defined outside a function from within the function?"
      ],
      "metadata": {
        "id": "CpEBTrH6W11W"
      },
      "id": "CpEBTrH6W11W"
    },
    {
      "cell_type": "code",
      "source": [
        "# Define a global variable\n",
        "global_var = 20\n",
        "\n",
        "# Function that accesses the global variable\n",
        "def access_global_variable():\n",
        "    global global_var  # Use the 'global' keyword to indicate we're referring to the global variable\n",
        "    print(\"Accessing global_var:\", global_var)\n",
        "\n",
        "# Call the function\n",
        "access_global_variable()"
      ],
      "metadata": {
        "colab": {
          "base_uri": "https://localhost:8080/"
        },
        "id": "NDniUMGqWlS8",
        "outputId": "e516012c-8089-4b20-a28f-e0ed879754d0"
      },
      "id": "NDniUMGqWlS8",
      "execution_count": 42,
      "outputs": [
        {
          "output_type": "stream",
          "name": "stdout",
          "text": [
            "Accessing global_var: 20\n"
          ]
        }
      ]
    },
    {
      "cell_type": "markdown",
      "source": [
        "# Lambda Functions and Higher-Order Functions:"
      ],
      "metadata": {
        "id": "R3ovzNT4W_ie"
      },
      "id": "R3ovzNT4W_ie"
    },
    {
      "cell_type": "markdown",
      "source": [
        "### 1. What are lambda functions in Python, and when are they typically used?\n"
      ],
      "metadata": {
        "id": "BcLUZ5nrXEWS"
      },
      "id": "BcLUZ5nrXEWS"
    },
    {
      "cell_type": "code",
      "source": [
        "'''Lambda Function, also referred to as ‘Anonymous function’ is same as a regular python function but can be defined without a name.\n",
        "While normal functions are defined using the def keyword, anonymous functions are defined using the lambda keyword.\n",
        "However,they are restricted to single line of expression. They can take in mutliple parameters as in regular functions.'''\n",
        "\n",
        "## for example :\n",
        "test2 = lambda a,b:a*b    ## lambda function is really short than the normal function defination.\n",
        "\n",
        "## function call :\n",
        "test2(2,3)"
      ],
      "metadata": {
        "colab": {
          "base_uri": "https://localhost:8080/"
        },
        "id": "OyvxPKK3W9kO",
        "outputId": "b1e7b164-6d2d-4542-93cd-fb5624cf4fe6"
      },
      "id": "OyvxPKK3W9kO",
      "execution_count": 43,
      "outputs": [
        {
          "output_type": "execute_result",
          "data": {
            "text/plain": [
              "6"
            ]
          },
          "metadata": {},
          "execution_count": 43
        }
      ]
    },
    {
      "cell_type": "markdown",
      "source": [
        "### 2. Write a Python program that uses lambda functions to sort a list of tuples based on the second element."
      ],
      "metadata": {
        "id": "OdIt2QRqW-Fs"
      },
      "id": "OdIt2QRqW-Fs"
    },
    {
      "cell_type": "code",
      "source": [
        "# List of tuples\n",
        "students = [(\"Alice\", 25), (\"Bob\", 18), (\"Charlie\", 30), (\"David\", 22)]\n",
        "\n",
        "# Sort the list based on the second element of each tuple using a lambda function\n",
        "sorted_students = sorted(students, key=lambda student: student[1])\n",
        "\n",
        "# Print the sorted list\n",
        "for student in sorted_students:\n",
        "    print(student)"
      ],
      "metadata": {
        "colab": {
          "base_uri": "https://localhost:8080/"
        },
        "id": "UJUVYWRuW9Zy",
        "outputId": "da13975d-662b-427a-ca41-419d86ee0371"
      },
      "id": "UJUVYWRuW9Zy",
      "execution_count": 44,
      "outputs": [
        {
          "output_type": "stream",
          "name": "stdout",
          "text": [
            "('Bob', 18)\n",
            "('David', 22)\n",
            "('Alice', 25)\n",
            "('Charlie', 30)\n"
          ]
        }
      ]
    },
    {
      "cell_type": "markdown",
      "source": [
        "### 3. Explain the concept of higher-order functions in Python, and provide an example."
      ],
      "metadata": {
        "id": "NjOdGC52ZfKP"
      },
      "id": "NjOdGC52ZfKP"
    },
    {
      "cell_type": "code",
      "source": [
        "# Higher-order function: applies a given function to each element of a list\n",
        "def apply_to_each(func, lst):\n",
        "    result = []\n",
        "    for item in lst:\n",
        "        result.append(func(item))\n",
        "    return result\n",
        "\n",
        "# Example functions\n",
        "def square(x):\n",
        "    return x ** 2\n",
        "\n",
        "def double(x):\n",
        "    return x * 2\n",
        "\n",
        "# Applying the higher-order function with different functions\n",
        "numbers = [1, 2, 3, 4, 5]\n",
        "squared_numbers = apply_to_each(square, numbers)\n",
        "doubled_numbers = apply_to_each(double, numbers)\n",
        "\n",
        "print(\"Original numbers:\", numbers)\n",
        "print(\"Squared numbers:\", squared_numbers)\n",
        "print(\"Doubled numbers:\", doubled_numbers)"
      ],
      "metadata": {
        "colab": {
          "base_uri": "https://localhost:8080/"
        },
        "id": "eIC5BZGxW9Pi",
        "outputId": "0237cd39-e3c5-4ba9-877a-2d0ad9dc83c2"
      },
      "id": "eIC5BZGxW9Pi",
      "execution_count": 45,
      "outputs": [
        {
          "output_type": "stream",
          "name": "stdout",
          "text": [
            "Original numbers: [1, 2, 3, 4, 5]\n",
            "Squared numbers: [1, 4, 9, 16, 25]\n",
            "Doubled numbers: [2, 4, 6, 8, 10]\n"
          ]
        }
      ]
    },
    {
      "cell_type": "markdown",
      "source": [
        "### 4. create a Python function that takes a list of numbers and a function as arguments, applying the function to each element in the list."
      ],
      "metadata": {
        "id": "5svSX867ZqyR"
      },
      "id": "5svSX867ZqyR"
    },
    {
      "cell_type": "code",
      "source": [
        "def apply_function_to_list(func, numbers):\n",
        "    \"\"\"\n",
        "    Apply the given function to each element in the list of numbers.\n",
        "\n",
        "    Args:\n",
        "        func (function): The function to apply.\n",
        "        numbers (list): The list of numbers.\n",
        "\n",
        "    Returns:\n",
        "        list: A new list containing the results of applying the function to each element.\n",
        "    \"\"\"\n",
        "    result = []\n",
        "    for number in numbers:\n",
        "        result.append(func(number))\n",
        "    return result\n",
        "\n",
        "# Example functions\n",
        "def square(x):\n",
        "    return x ** 2\n",
        "\n",
        "def double(x):\n",
        "    return x * 2\n",
        "\n",
        "# Example usage:\n",
        "numbers = [1, 2, 3, 4, 5]\n",
        "\n",
        "# Apply the square function to each element in the list\n",
        "squared_numbers = apply_function_to_list(square, numbers)\n",
        "print(\"Squared numbers:\", squared_numbers)\n",
        "\n",
        "# Apply the double function to each element in the list\n",
        "doubled_numbers = apply_function_to_list(double, numbers)\n",
        "print(\"Doubled numbers:\", doubled_numbers)"
      ],
      "metadata": {
        "colab": {
          "base_uri": "https://localhost:8080/"
        },
        "id": "5fNQ4qIjWlGi",
        "outputId": "33528fc1-9383-482f-fe01-0c320cb25a24"
      },
      "id": "5fNQ4qIjWlGi",
      "execution_count": 46,
      "outputs": [
        {
          "output_type": "stream",
          "name": "stdout",
          "text": [
            "Squared numbers: [1, 4, 9, 16, 25]\n",
            "Doubled numbers: [2, 4, 6, 8, 10]\n"
          ]
        }
      ]
    },
    {
      "cell_type": "markdown",
      "source": [
        "# Built-in Functions:"
      ],
      "metadata": {
        "id": "81KI9opzaEJH"
      },
      "id": "81KI9opzaEJH"
    },
    {
      "cell_type": "markdown",
      "source": [
        "### 1. )Describe the role of built-in functions like len(), max(), and min() in Python."
      ],
      "metadata": {
        "id": "Ng5oJv_gaIvI"
      },
      "id": "Ng5oJv_gaIvI"
    },
    {
      "cell_type": "code",
      "source": [
        "# len(): it is used to provide basically the number of elements present in a string\n",
        "#(incuding spaces) or list or tuples etc. lets take one example :\n",
        "\n",
        "l = [1,2,3,5]\n",
        "length = len(l)\n",
        "\n",
        "print(length) ## it will simply return 4 i.e. the number of elements present.\n"
      ],
      "metadata": {
        "colab": {
          "base_uri": "https://localhost:8080/"
        },
        "id": "GaxfMRTzaH7y",
        "outputId": "4873b1f0-f958-4883-ac07-1984baa1daac"
      },
      "id": "GaxfMRTzaH7y",
      "execution_count": 47,
      "outputs": [
        {
          "output_type": "stream",
          "name": "stdout",
          "text": [
            "4\n"
          ]
        }
      ]
    },
    {
      "cell_type": "code",
      "source": [
        "## max(): it is used to find the greatest element in a list tuple etc>\n",
        "## for example\n",
        "max(l)  ## it will return the greatest value presnt in l i.e. 5"
      ],
      "metadata": {
        "colab": {
          "base_uri": "https://localhost:8080/"
        },
        "id": "9C1R4RRXaHxg",
        "outputId": "d3d055bc-381a-4ee5-c04e-15060055ca66"
      },
      "id": "9C1R4RRXaHxg",
      "execution_count": 48,
      "outputs": [
        {
          "output_type": "execute_result",
          "data": {
            "text/plain": [
              "5"
            ]
          },
          "metadata": {},
          "execution_count": 48
        }
      ]
    },
    {
      "cell_type": "code",
      "source": [
        "## min() :it is used to find the smallest element in a list tuple etc>\n",
        "## for example\n",
        "min(l)  ## it will return the smallest value presnt in l i.e. 1"
      ],
      "metadata": {
        "colab": {
          "base_uri": "https://localhost:8080/"
        },
        "id": "ten67EsAaHJO",
        "outputId": "890dfc34-d178-48fe-c964-f2251c22379c"
      },
      "id": "ten67EsAaHJO",
      "execution_count": 49,
      "outputs": [
        {
          "output_type": "execute_result",
          "data": {
            "text/plain": [
              "1"
            ]
          },
          "metadata": {},
          "execution_count": 49
        }
      ]
    },
    {
      "cell_type": "markdown",
      "source": [
        "### 2. Write a Python program that uses the map() function to apply a function to each element of a list."
      ],
      "metadata": {
        "id": "R6PKAIs0bvfM"
      },
      "id": "R6PKAIs0bvfM"
    },
    {
      "cell_type": "code",
      "source": [
        "# Define a function to square a number\n",
        "def square(x):\n",
        "    return x ** 2\n",
        "\n",
        "# List of numbers\n",
        "numbers = [1, 2, 3, 4, 5]\n",
        "\n",
        "# Use the map() function to apply the square function to each element in the list\n",
        "squared_numbers = map(square, numbers)\n",
        "\n",
        "# Convert the result to a list (optional, as map() returns a map object in Python 3)\n",
        "squared_numbers_list = list(squared_numbers)\n",
        "\n",
        "# Print the original list and the squared numbers\n",
        "print(\"Original numbers:\", numbers)\n",
        "print(\"Squared numbers:\", squared_numbers_list)"
      ],
      "metadata": {
        "colab": {
          "base_uri": "https://localhost:8080/"
        },
        "id": "lpFSMPlpaGkO",
        "outputId": "6e4ce226-4185-4bad-9335-a629a1770b10"
      },
      "id": "lpFSMPlpaGkO",
      "execution_count": 50,
      "outputs": [
        {
          "output_type": "stream",
          "name": "stdout",
          "text": [
            "Original numbers: [1, 2, 3, 4, 5]\n",
            "Squared numbers: [1, 4, 9, 16, 25]\n"
          ]
        }
      ]
    },
    {
      "cell_type": "markdown",
      "source": [
        "### 3. How does the filter() function work in Python, and when would you use it?"
      ],
      "metadata": {
        "id": "D281V-Otb9hv"
      },
      "id": "D281V-Otb9hv"
    },
    {
      "cell_type": "code",
      "source": [
        "# Define a function to filter even numbers\n",
        "def is_even(x):\n",
        "    return x % 2 == 0\n",
        "\n",
        "# List of numbers\n",
        "numbers = [1, 2, 3, 4, 5, 6, 7, 8, 9, 10]\n",
        "\n",
        "# Use the filter() function to filter even numbers from the list\n",
        "even_numbers = filter(is_even, numbers)\n",
        "\n",
        "# Convert the result to a list (optional, as filter() returns a filter object in Python 3)\n",
        "even_numbers_list = list(even_numbers)\n",
        "\n",
        "# Print the original list and the filtered even numbers\n",
        "print(\"Original numbers:\", numbers)\n",
        "print(\"Even numbers:\", even_numbers_list)"
      ],
      "metadata": {
        "colab": {
          "base_uri": "https://localhost:8080/"
        },
        "id": "nQ87zbFtWk5s",
        "outputId": "4011197f-9616-4a2c-d7a7-efe6f6788a8d"
      },
      "id": "nQ87zbFtWk5s",
      "execution_count": 51,
      "outputs": [
        {
          "output_type": "stream",
          "name": "stdout",
          "text": [
            "Original numbers: [1, 2, 3, 4, 5, 6, 7, 8, 9, 10]\n",
            "Even numbers: [2, 4, 6, 8, 10]\n"
          ]
        }
      ]
    },
    {
      "cell_type": "markdown",
      "source": [
        "### 4. Create a Python program that uses the reduce() function to find the product of all elements in a list."
      ],
      "metadata": {
        "id": "6KWp3iRicQRA"
      },
      "id": "6KWp3iRicQRA"
    },
    {
      "cell_type": "code",
      "source": [
        "# Import the reduce function from the functools module\n",
        "from functools import reduce\n",
        "\n",
        "# Define a function to calculate the product of two numbers\n",
        "def multiply(x, y):\n",
        "    return x * y\n",
        "\n",
        "# List of numbers\n",
        "numbers = [1, 2, 3, 4, 5]\n",
        "\n",
        "# Use the reduce() function to find the product of all elements in the list\n",
        "product = reduce(multiply, numbers)\n",
        "\n",
        "# Print the original list and the product\n",
        "print(\"Original numbers:\", numbers)\n",
        "print(\"Product:\", product)"
      ],
      "metadata": {
        "colab": {
          "base_uri": "https://localhost:8080/"
        },
        "id": "s-qqLNwUcMX5",
        "outputId": "4a8663ac-5466-4cf7-bfae-3bedf27e5e31"
      },
      "id": "s-qqLNwUcMX5",
      "execution_count": 52,
      "outputs": [
        {
          "output_type": "stream",
          "name": "stdout",
          "text": [
            "Original numbers: [1, 2, 3, 4, 5]\n",
            "Product: 120\n"
          ]
        }
      ]
    },
    {
      "cell_type": "markdown",
      "source": [
        "# Function Documentation and Best Practices"
      ],
      "metadata": {
        "id": "9ZZ2T3k9cZs9"
      },
      "id": "9ZZ2T3k9cZs9"
    },
    {
      "cell_type": "markdown",
      "source": [
        "### 1. )Explain the purpose of docstrings in Python functions and how to write them"
      ],
      "metadata": {
        "id": "DfTm80Ascb3t"
      },
      "id": "DfTm80Ascb3t"
    },
    {
      "cell_type": "code",
      "source": [
        "## docstrings are written to make it clear that what the function do. it is used to clarify\n",
        "## the working of the respective function.\n",
        "\n",
        "## for example:\n",
        "\n",
        "def add(a, b):\n",
        "    \"\"\"\n",
        "    This function adds two numbers.\n",
        "\n",
        "    Args:\n",
        "        a (int): The first number.\n",
        "        b (int): The second number.\n",
        "\n",
        "    Returns:\n",
        "        int: The sum of a and b.\n",
        "\n",
        "    Example:\n",
        "        >>> add(2, 3)\n",
        "        5\n",
        "    \"\"\"\n",
        "    return a + b\n"
      ],
      "metadata": {
        "id": "_nAsEYojcMMf"
      },
      "id": "_nAsEYojcMMf",
      "execution_count": 53,
      "outputs": []
    },
    {
      "cell_type": "code",
      "source": [
        "add(2,3)"
      ],
      "metadata": {
        "colab": {
          "base_uri": "https://localhost:8080/"
        },
        "id": "SHC-IOTQcMAh",
        "outputId": "c58d9aa3-3e15-4db4-d412-419ff5f26546"
      },
      "id": "SHC-IOTQcMAh",
      "execution_count": 54,
      "outputs": [
        {
          "output_type": "execute_result",
          "data": {
            "text/plain": [
              "5"
            ]
          },
          "metadata": {},
          "execution_count": 54
        }
      ]
    },
    {
      "cell_type": "markdown",
      "source": [
        "### 2. Describe some best practices for naming functions and variables in Python, including naming conventions and guidelines."
      ],
      "metadata": {
        "id": "nUWBVPOadDrh"
      },
      "id": "nUWBVPOadDrh"
    },
    {
      "cell_type": "code",
      "source": [
        "'''1. Use descriptive and meaningful names\n",
        "Variable names should be descriptive and meaningful. They should describe what the variable represents or contains.\n",
        "For example, if you are writing a program that calculates the area of a circle, you might name your variable \"radius\" or \"area\".\n",
        " Avoid using generic or meaningless names such as \"x\" or \"temp\".\n",
        "\n",
        "2. Follow a consistent naming convention\n",
        "It's important to follow a consistent naming convention to make your code more readable and understandable.\n",
        "There are several naming conventions that you can follow, but the most common ones are:\n",
        "\n",
        "CamelCase: This convention capitalizes the first letter of each word except for the first word. For example, \"firstName\" or \"lastName\".\n",
        "snake_case: This convention uses underscores to separate words. For example, \"first_name\" or \"last_name\".\n",
        "Choose a naming convention and stick to it throughout your code.\n",
        "3. Avoid reserved keywords\n",
        "Avoid using reserved keywords as variable names. Python has several reserved keywords that have special meanings in the language.\n",
        " Using reserved keywords as variable names can cause syntax errors and make your code hard to read. Some examples of reserved keywords are \"if\", \"while\", \"for\", and \"print\".\n",
        "\n",
        "4. Don't use abbreviations\n",
        "Avoid using abbreviations in your variable names. Abbreviations can be confusing and may not be understandable to other developers. Instead, use full and descriptive names.\n",
        "\n",
        "5. Be mindful of variable scope\n",
        "Be mindful of the scope of your variables. Variables should be defined in the smallest possible scope to avoid naming conflicts and improve readability.\n",
        "For example, if you have a function that uses a variable, define that variable inside the function instead of at the global level.'''\n",
        "\n",
        "## for example:\n",
        "first_name = \"vanshika\"\n",
        "last_name = \"jain\"\n",
        "age = \"20\"\n"
      ],
      "metadata": {
        "id": "XxcR_K6ecLzm"
      },
      "id": "XxcR_K6ecLzm",
      "execution_count": 55,
      "outputs": []
    },
    {
      "cell_type": "markdown",
      "source": [
        "\n",
        "\n",
        ">>>>>>>>>>>>>**THANK YOU**\n",
        "\n"
      ],
      "metadata": {
        "id": "4_lRowGze76E"
      },
      "id": "4_lRowGze76E"
    }
  ],
  "metadata": {
    "kernelspec": {
      "display_name": "Python 3 (ipykernel)",
      "language": "python",
      "name": "python3"
    },
    "language_info": {
      "codemirror_mode": {
        "name": "ipython",
        "version": 3
      },
      "file_extension": ".py",
      "mimetype": "text/x-python",
      "name": "python",
      "nbconvert_exporter": "python",
      "pygments_lexer": "ipython3",
      "version": "3.10.8"
    },
    "colab": {
      "provenance": []
    }
  },
  "nbformat": 4,
  "nbformat_minor": 5
}